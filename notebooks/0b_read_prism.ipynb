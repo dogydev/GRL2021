{
 "cells": [
  {
   "cell_type": "markdown",
   "metadata": {},
   "source": [
    "## Read PRSIM\n",
    "\n",
    "calculate precipitation data for Midwest region (box)"
   ]
  },
  {
   "cell_type": "code",
   "execution_count": 1,
   "metadata": {},
   "outputs": [],
   "source": [
    "import numpy as np\n",
    "import pandas as pd\n",
    "import xarray as xr\n",
    "import dask.array as da\n",
    "import glob as glob\n",
    "import matplotlib.pyplot as plt\n",
    "import cartopy.crs as ccrs\n",
    "import cartopy.feature as cfeature"
   ]
  },
  {
   "cell_type": "code",
   "execution_count": 2,
   "metadata": {},
   "outputs": [],
   "source": [
    "import geopandas as gpd\n",
    "import regionmask\n",
    "import cartopy.io.shapereader as sr"
   ]
  },
  {
   "cell_type": "code",
   "execution_count": 3,
   "metadata": {},
   "outputs": [],
   "source": [
    "from project_utils import parameters as param"
   ]
  },
  {
   "cell_type": "markdown",
   "metadata": {},
   "source": [
    "#### processed data files created in this notebook:"
   ]
  },
  {
   "cell_type": "code",
   "execution_count": 4,
   "metadata": {},
   "outputs": [],
   "source": [
    "region_shp_file = \"../processed_data/region.shp\"\n",
    "pr_mean_file = \"../processed_data/prism_mean_\"+str(param.time_period.start)+\"_\"+str(param.time_period.stop)+\".nc\"\n",
    "region_mean_file = \"../processed_data/region_mean_precip.csv\""
   ]
  },
  {
   "cell_type": "markdown",
   "metadata": {},
   "source": [
    "#### Read PRISM data:"
   ]
  },
  {
   "cell_type": "code",
   "execution_count": 5,
   "metadata": {},
   "outputs": [],
   "source": [
    "prism_path = \"../input_data/PRISM/\"\n",
    "pr_prism_files = sorted(glob.glob(prism_path+\"*.nc\"))"
   ]
  },
  {
   "cell_type": "code",
   "execution_count": 6,
   "metadata": {},
   "outputs": [],
   "source": [
    "pr_prism = xr.open_mfdataset(pr_prism_files, combine='nested', concat_dim='time').sel(\n",
    "    lat = param.region_lat, lon = param.region_lon)\n",
    "\n",
    "pr_prism['time'] = pd.to_datetime(pr_prism['time'].values, format='%Y%m%d')"
   ]
  },
  {
   "cell_type": "markdown",
   "metadata": {},
   "source": [
    "#### Create Midwest region shapefile:"
   ]
  },
  {
   "cell_type": "code",
   "execution_count": 7,
   "metadata": {},
   "outputs": [],
   "source": [
    "from shapely.geometry import Polygon"
   ]
  },
  {
   "cell_type": "code",
   "execution_count": 8,
   "metadata": {},
   "outputs": [],
   "source": [
    "rx = np.interp(np.arange(0,100), [0, 25, 50, 75, 100], param.region_box_x) ## x coordinates\n",
    "ry = np.interp(np.arange(0,100), [0, 25, 50, 75, 100], param.region_box_y) ## y coordinates"
   ]
  },
  {
   "cell_type": "code",
   "execution_count": 9,
   "metadata": {},
   "outputs": [],
   "source": [
    "region_shp = gpd.GeoDataFrame(index=[0], crs='epsg:4326', \n",
    "                          geometry=[Polygon(zip(rx, ry))])"
   ]
  },
  {
   "cell_type": "code",
   "execution_count": 10,
   "metadata": {},
   "outputs": [],
   "source": [
    "region_shp.to_file(filename=region_shp_file, driver=\"ESRI Shapefile\")"
   ]
  },
  {
   "cell_type": "code",
   "execution_count": 11,
   "metadata": {},
   "outputs": [],
   "source": [
    "region_mask = regionmask.mask_geopandas(region_shp, pr_prism)"
   ]
  },
  {
   "cell_type": "markdown",
   "metadata": {},
   "source": [
    "#### Calculate mean precipitation (grid-level):"
   ]
  },
  {
   "cell_type": "code",
   "execution_count": 12,
   "metadata": {},
   "outputs": [],
   "source": [
    "calc_climatology = True\n",
    "## set to false to read already calculated data"
   ]
  },
  {
   "cell_type": "code",
   "execution_count": 14,
   "metadata": {},
   "outputs": [
    {
     "name": "stderr",
     "output_type": "stream",
     "text": [
      "/oak/stanford/groups/omramom/group_members/fvdav/projects/precip_clustering/envsnew/lib/python3.6/site-packages/dask/array/numpy_compat.py:40: RuntimeWarning: invalid value encountered in true_divide\n",
      "  x = np.divide(x1, x2, out)\n"
     ]
    }
   ],
   "source": [
    "if(calc_climatology):\n",
    "    pr_mean = pr_prism.sel(time = param.time_period).mean(dim = \"time\")\n",
    "    pr_mean.to_netcdf(pr_mean_file)\n",
    "\n",
    "pr_mean = xr.open_dataset(pr_mean_file)"
   ]
  },
  {
   "cell_type": "markdown",
   "metadata": {},
   "source": [
    "#### Regional precipitation time-series"
   ]
  },
  {
   "cell_type": "code",
   "execution_count": 15,
   "metadata": {},
   "outputs": [],
   "source": [
    "region_mean = pr_prism.sel(lon = param.region_lon, lat = param.region_lat).mean(dim = ['lat', 'lon'])\n",
    "region_mean = region_mean.to_dataframe()"
   ]
  },
  {
   "cell_type": "code",
   "execution_count": 16,
   "metadata": {},
   "outputs": [],
   "source": [
    "region_mean.to_csv(region_mean_file)"
   ]
  }
 ],
 "metadata": {
  "kernelspec": {
   "display_name": "Python 3",
   "language": "python",
   "name": "python3"
  },
  "language_info": {
   "codemirror_mode": {
    "name": "ipython",
    "version": 3
   },
   "file_extension": ".py",
   "mimetype": "text/x-python",
   "name": "python",
   "nbconvert_exporter": "python",
   "pygments_lexer": "ipython3",
   "version": "3.6.13"
  }
 },
 "nbformat": 4,
 "nbformat_minor": 4
}
