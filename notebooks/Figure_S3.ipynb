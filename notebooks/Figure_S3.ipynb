{
 "cells": [
  {
   "cell_type": "markdown",
   "id": "a89563db-ae49-4373-aa63-f983cb1118f4",
   "metadata": {},
   "source": [
    "### Calculations and plotting for Figure S3"
   ]
  },
  {
   "cell_type": "code",
   "execution_count": 1,
   "id": "911a2e23-c869-4fc4-ad15-fdca4dba3f94",
   "metadata": {},
   "outputs": [],
   "source": [
    "import numpy as np\n",
    "import tensorflow as tf\n",
    "import random"
   ]
  },
  {
   "cell_type": "code",
   "execution_count": 2,
   "id": "9d042385-8a05-438e-8a14-7b42ef8930e9",
   "metadata": {},
   "outputs": [],
   "source": [
    "np.random.seed(101)\n",
    "random.seed(201)\n",
    "tf.random.set_seed(333)"
   ]
  },
  {
   "cell_type": "code",
   "execution_count": 3,
   "id": "9d1213bf-5d3a-4ece-a550-3cfc2d716b9f",
   "metadata": {},
   "outputs": [],
   "source": [
    "session_conf = tf.compat.v1.ConfigProto(device_count={'CPU': 1})\n",
    "sess = tf.compat.v1.Session(config=session_conf)"
   ]
  },
  {
   "cell_type": "code",
   "execution_count": 4,
   "id": "5978ba9a-1905-4b08-a148-344e6cd57c5e",
   "metadata": {},
   "outputs": [],
   "source": [
    "import tensorflow.keras as keras"
   ]
  },
  {
   "cell_type": "code",
   "execution_count": 5,
   "id": "a2cb4aea-0e56-4391-9232-57ad8d8af442",
   "metadata": {},
   "outputs": [],
   "source": [
    "import pandas as pd\n",
    "import matplotlib.pyplot as plt"
   ]
  },
  {
   "cell_type": "code",
   "execution_count": 6,
   "id": "53f16baf-10e5-47c2-bc5a-fefc5ffa8e3d",
   "metadata": {},
   "outputs": [],
   "source": [
    "from project_utils import read_utils as read\n",
    "from project_utils import utils as util\n",
    "from project_utils import parameters as param\n",
    "from project_utils import model_utils as mu\n",
    "from project_utils import fig_utils as figu"
   ]
  },
  {
   "cell_type": "code",
   "execution_count": 7,
   "id": "ffbbd96a-f9a5-4ae8-aa89-1c3b6b6c8e53",
   "metadata": {},
   "outputs": [],
   "source": [
    "figu.set_plt_rc_params()"
   ]
  },
  {
   "cell_type": "markdown",
   "id": "e519ac0a-4bcb-4b1c-9e01-ea028e187e57",
   "metadata": {},
   "source": [
    "#### calculate p95 using 21-year moving window:"
   ]
  },
  {
   "cell_type": "code",
   "execution_count": 8,
   "id": "7f96a022-fe34-471a-84ec-9ead0ddf88dc",
   "metadata": {},
   "outputs": [],
   "source": [
    "precip_dat = pd.read_csv(\"../processed_data/region_mean_precip.csv\")\n",
    "precip_dat['time'] = pd.to_datetime(precip_dat['time'])\n",
    "precip_dat['year'] = precip_dat.time.dt.year"
   ]
  },
  {
   "cell_type": "code",
   "execution_count": 9,
   "id": "4338ee4e-fa9c-4b56-a995-082685c7cd92",
   "metadata": {},
   "outputs": [],
   "source": [
    "p95 = precip_dat.prcp.quantile(0.95)"
   ]
  },
  {
   "cell_type": "code",
   "execution_count": 10,
   "id": "87b6ef6d-ec15-4f8e-906e-8f32856b2910",
   "metadata": {},
   "outputs": [],
   "source": [
    "def calc_rolling_quantile(window, q):\n",
    "\n",
    "    result = pd.DataFrame()\n",
    "    window_half = int(window/2) #rounds down - length of window on either side of center date\n",
    "\n",
    "    for y in range(1981, 2020):\n",
    "        if ((y-1981) <= (window_half)):\n",
    "            years = range(1981, (window+1981))\n",
    "        elif ((2019-y) <= (window/2)):\n",
    "            years = range((2019-window+1), 2020)\n",
    "        else: \n",
    "            years = range(y-(window_half), y+(window_half))\n",
    "\n",
    "        df = precip_dat.loc[precip_dat.year.isin(years), ['prcp', 'year']]\n",
    "        df = df.quantile(q)\n",
    "        df['year'] = int(y)\n",
    "        result = result.append(df)\n",
    "    \n",
    "    result = result.astype({'year': 'int32'})\n",
    "    \n",
    "    return(result)"
   ]
  },
  {
   "cell_type": "code",
   "execution_count": 11,
   "id": "599c1557-8126-4586-8f63-2a3621e62ae6",
   "metadata": {},
   "outputs": [],
   "source": [
    "p95_annual = precip_dat.groupby(precip_dat.time.dt.year).prcp.quantile(0.95).reset_index()"
   ]
  },
  {
   "cell_type": "code",
   "execution_count": 12,
   "id": "9bde0f5e-7abc-498a-9fd4-0649361d1eaa",
   "metadata": {},
   "outputs": [],
   "source": [
    "p95_rolling21 = calc_rolling_quantile(21, 0.95).rename(columns = {'prcp': 'p95_rolling21'})"
   ]
  },
  {
   "cell_type": "code",
   "execution_count": 13,
   "id": "cc791b06-0426-4759-912f-884c1ae37e34",
   "metadata": {},
   "outputs": [],
   "source": [
    "precip_dat = precip_dat.join(p95_rolling21.set_index(\"year\"), on = \"year\", how = \"left\")\n",
    "precip_dat['extreme'] = np.where(precip_dat.prcp >= p95, 1, 0)\n",
    "precip_dat['extreme_rolling21'] = np.where(precip_dat.prcp >= precip_dat.p95_rolling21, 1, 0)"
   ]
  },
  {
   "cell_type": "markdown",
   "id": "52823cfa-15c1-4382-8f9b-e091f0f1d9c0",
   "metadata": {},
   "source": [
    "#### train model using moving p95 to assign labels:"
   ]
  },
  {
   "cell_type": "code",
   "execution_count": 14,
   "id": "b482b1a4-544c-417c-9e32-6a2eb8be9048",
   "metadata": {},
   "outputs": [],
   "source": [
    "x_dat = read.get_hgt_slp_input()"
   ]
  },
  {
   "cell_type": "code",
   "execution_count": 15,
   "id": "cc40aeca-1b98-4e5d-a70f-a1cd02bcc9bf",
   "metadata": {},
   "outputs": [],
   "source": [
    "y_dat = precip_dat.extreme_rolling21"
   ]
  },
  {
   "cell_type": "code",
   "execution_count": 16,
   "id": "7d055800-9a09-418c-be31-3e91e1050161",
   "metadata": {},
   "outputs": [],
   "source": [
    "y_dat_onehot = util.onehot(y_dat)"
   ]
  },
  {
   "cell_type": "code",
   "execution_count": 17,
   "id": "17fe9d83-e0b6-47f8-b730-d4111249556c",
   "metadata": {},
   "outputs": [],
   "source": [
    "ind = np.arange(len(y_dat))"
   ]
  },
  {
   "cell_type": "code",
   "execution_count": 18,
   "id": "a2913854-803f-43be-9ddd-09aa7e0084df",
   "metadata": {},
   "outputs": [],
   "source": [
    "from sklearn.model_selection import train_test_split"
   ]
  },
  {
   "cell_type": "code",
   "execution_count": 19,
   "id": "8b89781f-7793-4d0e-84f4-54b2aa070a7d",
   "metadata": {},
   "outputs": [],
   "source": [
    "x_train, x_test, y_train, y_test, ind_train, ind_test = train_test_split(x_dat, y_dat_onehot, ind, \n",
    "                                                                         test_size=0.25, random_state=42, \n",
    "                                                                         shuffle = True, stratify = y_dat)"
   ]
  },
  {
   "cell_type": "code",
   "execution_count": 20,
   "id": "cec7c842-5e3b-41af-8c91-813f438a7d60",
   "metadata": {},
   "outputs": [
    {
     "data": {
      "text/plain": [
       "{0: 0.5, 1: 9.004448398576512}"
      ]
     },
     "execution_count": 20,
     "metadata": {},
     "output_type": "execute_result"
    }
   ],
   "source": [
    "class_weights = util.class_weights(y_train[:,1].astype('int'))\n",
    "class_weights"
   ]
  },
  {
   "cell_type": "code",
   "execution_count": 21,
   "id": "232a2ef5-25b0-44d8-ba89-cd33ac80f390",
   "metadata": {},
   "outputs": [],
   "source": [
    "model = mu.build_model()"
   ]
  },
  {
   "cell_type": "code",
   "execution_count": 22,
   "id": "fa3a3ec8-e03f-4d9c-b9f6-ec93aaeebe34",
   "metadata": {},
   "outputs": [],
   "source": [
    "model.load_weights(\"../processed_data/initial_weights.h5\")"
   ]
  },
  {
   "cell_type": "code",
   "execution_count": 23,
   "id": "eaf43bd1-b5d0-46c2-9ea6-b817f4087eb7",
   "metadata": {},
   "outputs": [],
   "source": [
    "callback = tf.keras.callbacks.EarlyStopping(monitor='val_loss', patience=10, \n",
    "                                           restore_best_weights = True)"
   ]
  },
  {
   "cell_type": "code",
   "execution_count": 24,
   "id": "5bb00cb6-69a4-4080-afd7-511ca434e066",
   "metadata": {
    "scrolled": true,
    "tags": []
   },
   "outputs": [
    {
     "name": "stdout",
     "output_type": "stream",
     "text": [
      "Epoch 1/300\n",
      "6/6 [==============================] - 7s 1s/step - loss: 11.6802 - accuracy: 0.3561 - precision: 0.0590 - recall: 0.7618 - auc: 0.5656 - val_loss: 10.6432 - val_accuracy: 0.5195 - val_precision: 0.0822 - val_recall: 0.8021 - val_auc: 0.6979\n",
      "Epoch 2/300\n",
      "6/6 [==============================] - 1s 182ms/step - loss: 10.3814 - accuracy: 0.5368 - precision: 0.0732 - recall: 0.6748 - auc: 0.6463 - val_loss: 9.4372 - val_accuracy: 0.6456 - val_precision: 0.1080 - val_recall: 0.7914 - val_auc: 0.7776\n",
      "Epoch 3/300\n",
      "6/6 [==============================] - 1s 166ms/step - loss: 9.1996 - accuracy: 0.6254 - precision: 0.0981 - recall: 0.7262 - auc: 0.7311 - val_loss: 8.3884 - val_accuracy: 0.6883 - val_precision: 0.1257 - val_recall: 0.8289 - val_auc: 0.8190\n",
      "Epoch 4/300\n",
      "6/6 [==============================] - 1s 167ms/step - loss: 8.2093 - accuracy: 0.6778 - precision: 0.1140 - recall: 0.7493 - auc: 0.7759 - val_loss: 7.4740 - val_accuracy: 0.7130 - val_precision: 0.1373 - val_recall: 0.8449 - val_auc: 0.8424\n",
      "Epoch 5/300\n",
      "6/6 [==============================] - 1s 172ms/step - loss: 7.2771 - accuracy: 0.7043 - precision: 0.1177 - recall: 0.7384 - auc: 0.7894 - val_loss: 6.6781 - val_accuracy: 0.7290 - val_precision: 0.1444 - val_recall: 0.8449 - val_auc: 0.8545\n",
      "Epoch 6/300\n",
      "6/6 [==============================] - 1s 174ms/step - loss: 6.5195 - accuracy: 0.7136 - precision: 0.1285 - recall: 0.7729 - auc: 0.8210 - val_loss: 5.9875 - val_accuracy: 0.7377 - val_precision: 0.1473 - val_recall: 0.8342 - val_auc: 0.8633\n",
      "Epoch 7/300\n",
      "6/6 [==============================] - 1s 176ms/step - loss: 5.8224 - accuracy: 0.7302 - precision: 0.1340 - recall: 0.7981 - auc: 0.8374 - val_loss: 5.3910 - val_accuracy: 0.7416 - val_precision: 0.1479 - val_recall: 0.8235 - val_auc: 0.8678\n",
      "Epoch 8/300\n",
      "6/6 [==============================] - 1s 170ms/step - loss: 5.2625 - accuracy: 0.7376 - precision: 0.1464 - recall: 0.8211 - auc: 0.8506 - val_loss: 4.8857 - val_accuracy: 0.7296 - val_precision: 0.1453 - val_recall: 0.8503 - val_auc: 0.8734\n",
      "Epoch 9/300\n",
      "6/6 [==============================] - 1s 173ms/step - loss: 4.7595 - accuracy: 0.7312 - precision: 0.1427 - recall: 0.8281 - auc: 0.8559 - val_loss: 4.4343 - val_accuracy: 0.7464 - val_precision: 0.1511 - val_recall: 0.8289 - val_auc: 0.8758\n",
      "Epoch 10/300\n",
      "6/6 [==============================] - 1s 178ms/step - loss: 4.3269 - accuracy: 0.7521 - precision: 0.1502 - recall: 0.8137 - auc: 0.8632 - val_loss: 4.0446 - val_accuracy: 0.7585 - val_precision: 0.1570 - val_recall: 0.8235 - val_auc: 0.8770\n",
      "Epoch 11/300\n",
      "6/6 [==============================] - 1s 172ms/step - loss: 3.9477 - accuracy: 0.7632 - precision: 0.1618 - recall: 0.8183 - auc: 0.8638 - val_loss: 3.7143 - val_accuracy: 0.7613 - val_precision: 0.1572 - val_recall: 0.8128 - val_auc: 0.8792\n",
      "Epoch 12/300\n",
      "6/6 [==============================] - 1s 170ms/step - loss: 3.6471 - accuracy: 0.7665 - precision: 0.1590 - recall: 0.7941 - auc: 0.8628 - val_loss: 3.4309 - val_accuracy: 0.7605 - val_precision: 0.1574 - val_recall: 0.8182 - val_auc: 0.8820\n",
      "Epoch 13/300\n",
      "6/6 [==============================] - 1s 170ms/step - loss: 3.3557 - accuracy: 0.7665 - precision: 0.1647 - recall: 0.8325 - auc: 0.8767 - val_loss: 3.1926 - val_accuracy: 0.7512 - val_precision: 0.1536 - val_recall: 0.8289 - val_auc: 0.8849\n",
      "Epoch 14/300\n",
      "6/6 [==============================] - 1s 191ms/step - loss: 3.1124 - accuracy: 0.7606 - precision: 0.1594 - recall: 0.8314 - auc: 0.8770 - val_loss: 2.9777 - val_accuracy: 0.7506 - val_precision: 0.1540 - val_recall: 0.8342 - val_auc: 0.8864\n",
      "Epoch 15/300\n",
      "6/6 [==============================] - 1s 220ms/step - loss: 2.8796 - accuracy: 0.7646 - precision: 0.1624 - recall: 0.8646 - auc: 0.8843 - val_loss: 2.7828 - val_accuracy: 0.7568 - val_precision: 0.1581 - val_recall: 0.8396 - val_auc: 0.8875\n",
      "Epoch 16/300\n",
      "6/6 [==============================] - 1s 172ms/step - loss: 2.6926 - accuracy: 0.7680 - precision: 0.1629 - recall: 0.8640 - auc: 0.8900 - val_loss: 2.6168 - val_accuracy: 0.7565 - val_precision: 0.1586 - val_recall: 0.8449 - val_auc: 0.8895\n",
      "Epoch 17/300\n",
      "6/6 [==============================] - 1s 177ms/step - loss: 2.5409 - accuracy: 0.7628 - precision: 0.1573 - recall: 0.8425 - auc: 0.8839 - val_loss: 2.4793 - val_accuracy: 0.7489 - val_precision: 0.1565 - val_recall: 0.8610 - val_auc: 0.8918\n",
      "Epoch 18/300\n",
      "6/6 [==============================] - 1s 178ms/step - loss: 2.3803 - accuracy: 0.7637 - precision: 0.1608 - recall: 0.8669 - auc: 0.8939 - val_loss: 2.3431 - val_accuracy: 0.7532 - val_precision: 0.1588 - val_recall: 0.8610 - val_auc: 0.8933\n",
      "Epoch 19/300\n",
      "6/6 [==============================] - 1s 172ms/step - loss: 2.2636 - accuracy: 0.7721 - precision: 0.1739 - recall: 0.8664 - auc: 0.8954 - val_loss: 2.2135 - val_accuracy: 0.7644 - val_precision: 0.1639 - val_recall: 0.8503 - val_auc: 0.8944\n",
      "Epoch 20/300\n",
      "6/6 [==============================] - 1s 173ms/step - loss: 2.1517 - accuracy: 0.7779 - precision: 0.1819 - recall: 0.8729 - auc: 0.8950 - val_loss: 2.1145 - val_accuracy: 0.7593 - val_precision: 0.1616 - val_recall: 0.8556 - val_auc: 0.8970\n",
      "Epoch 21/300\n",
      "6/6 [==============================] - 1s 170ms/step - loss: 2.0453 - accuracy: 0.7772 - precision: 0.1784 - recall: 0.8695 - auc: 0.8952 - val_loss: 2.0161 - val_accuracy: 0.7652 - val_precision: 0.1651 - val_recall: 0.8556 - val_auc: 0.8987\n",
      "Epoch 22/300\n",
      "6/6 [==============================] - 1s 162ms/step - loss: 1.9436 - accuracy: 0.7816 - precision: 0.1721 - recall: 0.8612 - auc: 0.8951 - val_loss: 1.9300 - val_accuracy: 0.7672 - val_precision: 0.1663 - val_recall: 0.8556 - val_auc: 0.9003\n",
      "Epoch 23/300\n",
      "6/6 [==============================] - 1s 160ms/step - loss: 1.8482 - accuracy: 0.7852 - precision: 0.1791 - recall: 0.8772 - auc: 0.9051 - val_loss: 1.8610 - val_accuracy: 0.7613 - val_precision: 0.1641 - val_recall: 0.8663 - val_auc: 0.9023\n",
      "Epoch 24/300\n",
      "6/6 [==============================] - 1s 165ms/step - loss: 1.7788 - accuracy: 0.7762 - precision: 0.1724 - recall: 0.8785 - auc: 0.9020 - val_loss: 1.8027 - val_accuracy: 0.7560 - val_precision: 0.1630 - val_recall: 0.8824 - val_auc: 0.9045\n",
      "Epoch 25/300\n",
      "6/6 [==============================] - 1s 166ms/step - loss: 1.7090 - accuracy: 0.7807 - precision: 0.1787 - recall: 0.8919 - auc: 0.9087 - val_loss: 1.7195 - val_accuracy: 0.7720 - val_precision: 0.1707 - val_recall: 0.8663 - val_auc: 0.9056\n",
      "Epoch 26/300\n",
      "6/6 [==============================] - 1s 158ms/step - loss: 1.6477 - accuracy: 0.8038 - precision: 0.1919 - recall: 0.8743 - auc: 0.9088 - val_loss: 1.6568 - val_accuracy: 0.7793 - val_precision: 0.1762 - val_recall: 0.8717 - val_auc: 0.9069\n",
      "Epoch 27/300\n",
      "6/6 [==============================] - 1s 163ms/step - loss: 1.5933 - accuracy: 0.7934 - precision: 0.1810 - recall: 0.8492 - auc: 0.9044 - val_loss: 1.6236 - val_accuracy: 0.7675 - val_precision: 0.1713 - val_recall: 0.8930 - val_auc: 0.9093\n",
      "Epoch 28/300\n",
      "6/6 [==============================] - 1s 163ms/step - loss: 1.5412 - accuracy: 0.7957 - precision: 0.1858 - recall: 0.8733 - auc: 0.9091 - val_loss: 1.5671 - val_accuracy: 0.7737 - val_precision: 0.1739 - val_recall: 0.8824 - val_auc: 0.9104\n",
      "Epoch 29/300\n",
      "6/6 [==============================] - 1s 161ms/step - loss: 1.4966 - accuracy: 0.8049 - precision: 0.1961 - recall: 0.8801 - auc: 0.9099 - val_loss: 1.5248 - val_accuracy: 0.7748 - val_precision: 0.1746 - val_recall: 0.8824 - val_auc: 0.9118\n",
      "Epoch 30/300\n",
      "6/6 [==============================] - 1s 161ms/step - loss: 1.4493 - accuracy: 0.8032 - precision: 0.1922 - recall: 0.8700 - auc: 0.9089 - val_loss: 1.4861 - val_accuracy: 0.7748 - val_precision: 0.1746 - val_recall: 0.8824 - val_auc: 0.9130\n",
      "Epoch 31/300\n",
      "6/6 [==============================] - 1s 159ms/step - loss: 1.4083 - accuracy: 0.8005 - precision: 0.1978 - recall: 0.8849 - auc: 0.9163 - val_loss: 1.4698 - val_accuracy: 0.7630 - val_precision: 0.1698 - val_recall: 0.9037 - val_auc: 0.9153\n",
      "Epoch 32/300\n",
      "6/6 [==============================] - 1s 160ms/step - loss: 1.3705 - accuracy: 0.7858 - precision: 0.1863 - recall: 0.9102 - auc: 0.9195 - val_loss: 1.4206 - val_accuracy: 0.7756 - val_precision: 0.1765 - val_recall: 0.8930 - val_auc: 0.9161\n",
      "Epoch 33/300\n",
      "6/6 [==============================] - 1s 163ms/step - loss: 1.3337 - accuracy: 0.8046 - precision: 0.1985 - recall: 0.8808 - auc: 0.9187 - val_loss: 1.3491 - val_accuracy: 0.8062 - val_precision: 0.1959 - val_recall: 0.8663 - val_auc: 0.9164\n",
      "Epoch 34/300\n",
      "6/6 [==============================] - 1s 172ms/step - loss: 1.2974 - accuracy: 0.8238 - precision: 0.2143 - recall: 0.8732 - auc: 0.9208 - val_loss: 1.3390 - val_accuracy: 0.7961 - val_precision: 0.1899 - val_recall: 0.8824 - val_auc: 0.9182\n",
      "Epoch 35/300\n",
      "6/6 [==============================] - 1s 178ms/step - loss: 1.2808 - accuracy: 0.8028 - precision: 0.1999 - recall: 0.8929 - auc: 0.9159 - val_loss: 1.3348 - val_accuracy: 0.7798 - val_precision: 0.1801 - val_recall: 0.8984 - val_auc: 0.9198\n",
      "Epoch 36/300\n",
      "6/6 [==============================] - 1s 175ms/step - loss: 1.2454 - accuracy: 0.8016 - precision: 0.1951 - recall: 0.8863 - auc: 0.9195 - val_loss: 1.2995 - val_accuracy: 0.7883 - val_precision: 0.1853 - val_recall: 0.8930 - val_auc: 0.9203\n",
      "Epoch 37/300\n",
      "6/6 [==============================] - 1s 174ms/step - loss: 1.2170 - accuracy: 0.8025 - precision: 0.1961 - recall: 0.8884 - auc: 0.9210 - val_loss: 1.2703 - val_accuracy: 0.7928 - val_precision: 0.1880 - val_recall: 0.8877 - val_auc: 0.9208\n",
      "Epoch 38/300\n",
      "6/6 [==============================] - 1s 174ms/step - loss: 1.1921 - accuracy: 0.8082 - precision: 0.1958 - recall: 0.8830 - auc: 0.9213 - val_loss: 1.2330 - val_accuracy: 0.8003 - val_precision: 0.1939 - val_recall: 0.8877 - val_auc: 0.9217\n",
      "Epoch 39/300\n",
      "6/6 [==============================] - 1s 173ms/step - loss: 1.1800 - accuracy: 0.8179 - precision: 0.2127 - recall: 0.8727 - auc: 0.9197 - val_loss: 1.2059 - val_accuracy: 0.8051 - val_precision: 0.1964 - val_recall: 0.8770 - val_auc: 0.9223\n",
      "Epoch 40/300\n",
      "6/6 [==============================] - 1s 160ms/step - loss: 1.1524 - accuracy: 0.8219 - precision: 0.2219 - recall: 0.8829 - auc: 0.9246 - val_loss: 1.1978 - val_accuracy: 0.7989 - val_precision: 0.1928 - val_recall: 0.8877 - val_auc: 0.9234\n",
      "Epoch 41/300\n",
      "6/6 [==============================] - 1s 177ms/step - loss: 1.1198 - accuracy: 0.8142 - precision: 0.2046 - recall: 0.8979 - auc: 0.9260 - val_loss: 1.1692 - val_accuracy: 0.8045 - val_precision: 0.1974 - val_recall: 0.8877 - val_auc: 0.9242\n",
      "Epoch 42/300\n",
      "6/6 [==============================] - 1s 180ms/step - loss: 1.0904 - accuracy: 0.8245 - precision: 0.2109 - recall: 0.8928 - auc: 0.9291 - val_loss: 1.1493 - val_accuracy: 0.8060 - val_precision: 0.1986 - val_recall: 0.8877 - val_auc: 0.9250\n",
      "Epoch 43/300\n",
      "6/6 [==============================] - 1s 172ms/step - loss: 1.0851 - accuracy: 0.8170 - precision: 0.2143 - recall: 0.8982 - auc: 0.9259 - val_loss: 1.1339 - val_accuracy: 0.8045 - val_precision: 0.1974 - val_recall: 0.8877 - val_auc: 0.9260\n",
      "Epoch 44/300\n",
      "6/6 [==============================] - 1s 170ms/step - loss: 1.0705 - accuracy: 0.8202 - precision: 0.2108 - recall: 0.8861 - auc: 0.9220 - val_loss: 1.1082 - val_accuracy: 0.8093 - val_precision: 0.2000 - val_recall: 0.8770 - val_auc: 0.9266\n",
      "Epoch 45/300\n",
      "6/6 [==============================] - 1s 172ms/step - loss: 1.0450 - accuracy: 0.8253 - precision: 0.2206 - recall: 0.8898 - auc: 0.9300 - val_loss: 1.0923 - val_accuracy: 0.8090 - val_precision: 0.1998 - val_recall: 0.8770 - val_auc: 0.9271\n",
      "Epoch 46/300\n",
      "6/6 [==============================] - 1s 201ms/step - loss: 1.0442 - accuracy: 0.8236 - precision: 0.2216 - recall: 0.8698 - auc: 0.9230 - val_loss: 1.0737 - val_accuracy: 0.8138 - val_precision: 0.2040 - val_recall: 0.8770 - val_auc: 0.9275\n",
      "Epoch 47/300\n",
      "6/6 [==============================] - 1s 170ms/step - loss: 1.0160 - accuracy: 0.8262 - precision: 0.2204 - recall: 0.8905 - auc: 0.9258 - val_loss: 1.0616 - val_accuracy: 0.8127 - val_precision: 0.2037 - val_recall: 0.8824 - val_auc: 0.9281\n",
      "Epoch 48/300\n",
      "6/6 [==============================] - 1s 179ms/step - loss: 0.9859 - accuracy: 0.8279 - precision: 0.2264 - recall: 0.9150 - auc: 0.9344 - val_loss: 1.0313 - val_accuracy: 0.8206 - val_precision: 0.2095 - val_recall: 0.8717 - val_auc: 0.9281\n",
      "Epoch 49/300\n",
      "6/6 [==============================] - 1s 168ms/step - loss: 0.9732 - accuracy: 0.8373 - precision: 0.2265 - recall: 0.8959 - auc: 0.9302 - val_loss: 1.0290 - val_accuracy: 0.8138 - val_precision: 0.2040 - val_recall: 0.8770 - val_auc: 0.9291\n",
      "Epoch 50/300\n",
      "6/6 [==============================] - 1s 173ms/step - loss: 0.9640 - accuracy: 0.8262 - precision: 0.2211 - recall: 0.8944 - auc: 0.9309 - val_loss: 1.0199 - val_accuracy: 0.8107 - val_precision: 0.2012 - val_recall: 0.8770 - val_auc: 0.9297\n",
      "Epoch 51/300\n",
      "6/6 [==============================] - 1s 158ms/step - loss: 0.9460 - accuracy: 0.8264 - precision: 0.2203 - recall: 0.8962 - auc: 0.9324 - val_loss: 0.9888 - val_accuracy: 0.8225 - val_precision: 0.2122 - val_recall: 0.8770 - val_auc: 0.9299\n",
      "Epoch 52/300\n",
      "6/6 [==============================] - 1s 168ms/step - loss: 0.9467 - accuracy: 0.8320 - precision: 0.2253 - recall: 0.8680 - auc: 0.9260 - val_loss: 0.9882 - val_accuracy: 0.8149 - val_precision: 0.2057 - val_recall: 0.8824 - val_auc: 0.9305\n",
      "Epoch 53/300\n",
      "6/6 [==============================] - 1s 173ms/step - loss: 0.9105 - accuracy: 0.8284 - precision: 0.2087 - recall: 0.8967 - auc: 0.9297 - val_loss: 0.9616 - val_accuracy: 0.8242 - val_precision: 0.2138 - val_recall: 0.8770 - val_auc: 0.9305\n",
      "Epoch 54/300\n",
      "6/6 [==============================] - 1s 171ms/step - loss: 0.9031 - accuracy: 0.8321 - precision: 0.2270 - recall: 0.8915 - auc: 0.9340 - val_loss: 0.9705 - val_accuracy: 0.8124 - val_precision: 0.2056 - val_recall: 0.8984 - val_auc: 0.9316\n",
      "Epoch 55/300\n",
      "6/6 [==============================] - 1s 168ms/step - loss: 0.8934 - accuracy: 0.8234 - precision: 0.2235 - recall: 0.9110 - auc: 0.9348 - val_loss: 0.9452 - val_accuracy: 0.8203 - val_precision: 0.2115 - val_recall: 0.8877 - val_auc: 0.9320\n",
      "Epoch 56/300\n",
      "6/6 [==============================] - 1s 174ms/step - loss: 0.8763 - accuracy: 0.8287 - precision: 0.2129 - recall: 0.8800 - auc: 0.9308 - val_loss: 0.9289 - val_accuracy: 0.8231 - val_precision: 0.2142 - val_recall: 0.8877 - val_auc: 0.9324\n",
      "Epoch 57/300\n",
      "6/6 [==============================] - 1s 165ms/step - loss: 0.8604 - accuracy: 0.8296 - precision: 0.2292 - recall: 0.9070 - auc: 0.9391 - val_loss: 0.9281 - val_accuracy: 0.8163 - val_precision: 0.2092 - val_recall: 0.8984 - val_auc: 0.9328\n",
      "Epoch 58/300\n",
      "6/6 [==============================] - 1s 172ms/step - loss: 0.8606 - accuracy: 0.8267 - precision: 0.2244 - recall: 0.9035 - auc: 0.9324 - val_loss: 0.9040 - val_accuracy: 0.8250 - val_precision: 0.2154 - val_recall: 0.8824 - val_auc: 0.9329\n",
      "Epoch 59/300\n",
      "6/6 [==============================] - 1s 172ms/step - loss: 0.8372 - accuracy: 0.8416 - precision: 0.2382 - recall: 0.8938 - auc: 0.9376 - val_loss: 0.8702 - val_accuracy: 0.8385 - val_precision: 0.2291 - val_recall: 0.8770 - val_auc: 0.9330\n",
      "Epoch 60/300\n",
      "6/6 [==============================] - 1s 174ms/step - loss: 0.8310 - accuracy: 0.8476 - precision: 0.2448 - recall: 0.8766 - auc: 0.9356 - val_loss: 0.8605 - val_accuracy: 0.8377 - val_precision: 0.2281 - val_recall: 0.8770 - val_auc: 0.9334\n",
      "Epoch 61/300\n",
      "6/6 [==============================] - 1s 172ms/step - loss: 0.8282 - accuracy: 0.8428 - precision: 0.2399 - recall: 0.8819 - auc: 0.9330 - val_loss: 0.8642 - val_accuracy: 0.8290 - val_precision: 0.2187 - val_recall: 0.8770 - val_auc: 0.9340\n",
      "Epoch 62/300\n",
      "6/6 [==============================] - 1s 164ms/step - loss: 0.8094 - accuracy: 0.8415 - precision: 0.2322 - recall: 0.8951 - auc: 0.9336 - val_loss: 0.8589 - val_accuracy: 0.8265 - val_precision: 0.2168 - val_recall: 0.8824 - val_auc: 0.9340\n",
      "Epoch 63/300\n",
      "6/6 [==============================] - 1s 180ms/step - loss: 0.7876 - accuracy: 0.8439 - precision: 0.2355 - recall: 0.8997 - auc: 0.9395 - val_loss: 0.8372 - val_accuracy: 0.8343 - val_precision: 0.2244 - val_recall: 0.8770 - val_auc: 0.9343\n",
      "Epoch 64/300\n",
      "6/6 [==============================] - 1s 174ms/step - loss: 0.7734 - accuracy: 0.8463 - precision: 0.2338 - recall: 0.9034 - auc: 0.9399 - val_loss: 0.8408 - val_accuracy: 0.8265 - val_precision: 0.2168 - val_recall: 0.8824 - val_auc: 0.9348\n",
      "Epoch 65/300\n",
      "6/6 [==============================] - 1s 173ms/step - loss: 0.7729 - accuracy: 0.8328 - precision: 0.2307 - recall: 0.9163 - auc: 0.9396 - val_loss: 0.8327 - val_accuracy: 0.8256 - val_precision: 0.2174 - val_recall: 0.8930 - val_auc: 0.9353\n",
      "Epoch 66/300\n",
      "6/6 [==============================] - 1s 171ms/step - loss: 0.7721 - accuracy: 0.8356 - precision: 0.2296 - recall: 0.8885 - auc: 0.9340 - val_loss: 0.8024 - val_accuracy: 0.8382 - val_precision: 0.2287 - val_recall: 0.8770 - val_auc: 0.9353\n",
      "Epoch 67/300\n",
      "6/6 [==============================] - 1s 172ms/step - loss: 0.7507 - accuracy: 0.8521 - precision: 0.2378 - recall: 0.8684 - auc: 0.9371 - val_loss: 0.7967 - val_accuracy: 0.8388 - val_precision: 0.2294 - val_recall: 0.8770 - val_auc: 0.9350\n",
      "Epoch 68/300\n",
      "6/6 [==============================] - 1s 174ms/step - loss: 0.7375 - accuracy: 0.8448 - precision: 0.2293 - recall: 0.8882 - auc: 0.9395 - val_loss: 0.8186 - val_accuracy: 0.8208 - val_precision: 0.2142 - val_recall: 0.9037 - val_auc: 0.9358\n",
      "Epoch 69/300\n",
      "6/6 [==============================] - 1s 164ms/step - loss: 0.7291 - accuracy: 0.8309 - precision: 0.2284 - recall: 0.9060 - auc: 0.9436 - val_loss: 0.7922 - val_accuracy: 0.8298 - val_precision: 0.2210 - val_recall: 0.8877 - val_auc: 0.9358\n",
      "Epoch 70/300\n",
      "6/6 [==============================] - 1s 169ms/step - loss: 0.7276 - accuracy: 0.8438 - precision: 0.2442 - recall: 0.9098 - auc: 0.9396 - val_loss: 0.7793 - val_accuracy: 0.8332 - val_precision: 0.2246 - val_recall: 0.8877 - val_auc: 0.9359\n",
      "Epoch 71/300\n",
      "6/6 [==============================] - 1s 173ms/step - loss: 0.7307 - accuracy: 0.8402 - precision: 0.2419 - recall: 0.8979 - auc: 0.9354 - val_loss: 0.7815 - val_accuracy: 0.8265 - val_precision: 0.2183 - val_recall: 0.8930 - val_auc: 0.9363\n",
      "Epoch 72/300\n",
      "6/6 [==============================] - 1s 168ms/step - loss: 0.7102 - accuracy: 0.8381 - precision: 0.2266 - recall: 0.9033 - auc: 0.9368 - val_loss: 0.7673 - val_accuracy: 0.8309 - val_precision: 0.2237 - val_recall: 0.8984 - val_auc: 0.9366\n",
      "Epoch 73/300\n",
      "6/6 [==============================] - 1s 165ms/step - loss: 0.6975 - accuracy: 0.8373 - precision: 0.2255 - recall: 0.8983 - auc: 0.9393 - val_loss: 0.7530 - val_accuracy: 0.8335 - val_precision: 0.2249 - val_recall: 0.8877 - val_auc: 0.9369\n",
      "Epoch 74/300\n",
      "6/6 [==============================] - 1s 166ms/step - loss: 0.6905 - accuracy: 0.8404 - precision: 0.2382 - recall: 0.9102 - auc: 0.9416 - val_loss: 0.7631 - val_accuracy: 0.8239 - val_precision: 0.2165 - val_recall: 0.8984 - val_auc: 0.9375\n",
      "Epoch 75/300\n",
      "6/6 [==============================] - 1s 175ms/step - loss: 0.6906 - accuracy: 0.8354 - precision: 0.2296 - recall: 0.9122 - auc: 0.9380 - val_loss: 0.7476 - val_accuracy: 0.8290 - val_precision: 0.2216 - val_recall: 0.8984 - val_auc: 0.9370\n",
      "Epoch 76/300\n",
      "6/6 [==============================] - 1s 222ms/step - loss: 0.6776 - accuracy: 0.8397 - precision: 0.2392 - recall: 0.9131 - auc: 0.9405 - val_loss: 0.7193 - val_accuracy: 0.8439 - val_precision: 0.2353 - val_recall: 0.8770 - val_auc: 0.9366\n",
      "Epoch 77/300\n",
      "6/6 [==============================] - 1s 161ms/step - loss: 0.6670 - accuracy: 0.8463 - precision: 0.2441 - recall: 0.9163 - auc: 0.9419 - val_loss: 0.7302 - val_accuracy: 0.8301 - val_precision: 0.2228 - val_recall: 0.8984 - val_auc: 0.9373\n",
      "Epoch 78/300\n",
      "6/6 [==============================] - 1s 162ms/step - loss: 0.6496 - accuracy: 0.8405 - precision: 0.2352 - recall: 0.9251 - auc: 0.9457 - val_loss: 0.7192 - val_accuracy: 0.8315 - val_precision: 0.2236 - val_recall: 0.8930 - val_auc: 0.9375\n",
      "Epoch 79/300\n",
      "6/6 [==============================] - 1s 155ms/step - loss: 0.6590 - accuracy: 0.8417 - precision: 0.2402 - recall: 0.9138 - auc: 0.9394 - val_loss: 0.6930 - val_accuracy: 0.8455 - val_precision: 0.2373 - val_recall: 0.8770 - val_auc: 0.9379\n",
      "Epoch 80/300\n",
      "6/6 [==============================] - 1s 160ms/step - loss: 0.6442 - accuracy: 0.8540 - precision: 0.2488 - recall: 0.9064 - auc: 0.9410 - val_loss: 0.6947 - val_accuracy: 0.8405 - val_precision: 0.2328 - val_recall: 0.8877 - val_auc: 0.9381\n",
      "Epoch 81/300\n",
      "6/6 [==============================] - 1s 166ms/step - loss: 0.6422 - accuracy: 0.8408 - precision: 0.2350 - recall: 0.8927 - auc: 0.9411 - val_loss: 0.6994 - val_accuracy: 0.8321 - val_precision: 0.2242 - val_recall: 0.8930 - val_auc: 0.9386\n",
      "Epoch 82/300\n",
      "6/6 [==============================] - 1s 160ms/step - loss: 0.6397 - accuracy: 0.8451 - precision: 0.2341 - recall: 0.9000 - auc: 0.9370 - val_loss: 0.6920 - val_accuracy: 0.8349 - val_precision: 0.2272 - val_recall: 0.8930 - val_auc: 0.9389\n",
      "Epoch 83/300\n",
      "6/6 [==============================] - 1s 158ms/step - loss: 0.6212 - accuracy: 0.8381 - precision: 0.2364 - recall: 0.9254 - auc: 0.9453 - val_loss: 0.6969 - val_accuracy: 0.8290 - val_precision: 0.2209 - val_recall: 0.8930 - val_auc: 0.9388\n",
      "Epoch 84/300\n",
      "6/6 [==============================] - 1s 165ms/step - loss: 0.6114 - accuracy: 0.8433 - precision: 0.2383 - recall: 0.9308 - auc: 0.9450 - val_loss: 0.6660 - val_accuracy: 0.8430 - val_precision: 0.2358 - val_recall: 0.8877 - val_auc: 0.9389\n",
      "Epoch 85/300\n",
      "6/6 [==============================] - 1s 160ms/step - loss: 0.6091 - accuracy: 0.8571 - precision: 0.2510 - recall: 0.9065 - auc: 0.9427 - val_loss: 0.6635 - val_accuracy: 0.8419 - val_precision: 0.2345 - val_recall: 0.8877 - val_auc: 0.9394\n",
      "Epoch 86/300\n",
      "6/6 [==============================] - 1s 163ms/step - loss: 0.6035 - accuracy: 0.8485 - precision: 0.2414 - recall: 0.9110 - auc: 0.9428 - val_loss: 0.6648 - val_accuracy: 0.8374 - val_precision: 0.2300 - val_recall: 0.8930 - val_auc: 0.9394\n",
      "Epoch 87/300\n",
      "6/6 [==============================] - 1s 166ms/step - loss: 0.6071 - accuracy: 0.8448 - precision: 0.2422 - recall: 0.9100 - auc: 0.9400 - val_loss: 0.6518 - val_accuracy: 0.8436 - val_precision: 0.2365 - val_recall: 0.8877 - val_auc: 0.9392\n",
      "Epoch 88/300\n",
      "6/6 [==============================] - 1s 166ms/step - loss: 0.5920 - accuracy: 0.8577 - precision: 0.2543 - recall: 0.9000 - auc: 0.9440 - val_loss: 0.6226 - val_accuracy: 0.8568 - val_precision: 0.2534 - val_recall: 0.8877 - val_auc: 0.9395\n",
      "Epoch 89/300\n",
      "6/6 [==============================] - 1s 158ms/step - loss: 0.5858 - accuracy: 0.8588 - precision: 0.2554 - recall: 0.8840 - auc: 0.9444 - val_loss: 0.6481 - val_accuracy: 0.8380 - val_precision: 0.2299 - val_recall: 0.8877 - val_auc: 0.9398\n",
      "Epoch 90/300\n",
      "6/6 [==============================] - 1s 173ms/step - loss: 0.5826 - accuracy: 0.8393 - precision: 0.2368 - recall: 0.9265 - auc: 0.9436 - val_loss: 0.6650 - val_accuracy: 0.8270 - val_precision: 0.2203 - val_recall: 0.9037 - val_auc: 0.9400\n",
      "Epoch 91/300\n",
      "6/6 [==============================] - 1s 175ms/step - loss: 0.5760 - accuracy: 0.8423 - precision: 0.2443 - recall: 0.9307 - auc: 0.9454 - val_loss: 0.6077 - val_accuracy: 0.8548 - val_precision: 0.2500 - val_recall: 0.8824 - val_auc: 0.9402\n",
      "Epoch 92/300\n",
      "6/6 [==============================] - 1s 167ms/step - loss: 0.5603 - accuracy: 0.8616 - precision: 0.2611 - recall: 0.9165 - auc: 0.9479 - val_loss: 0.6156 - val_accuracy: 0.8470 - val_precision: 0.2406 - val_recall: 0.8877 - val_auc: 0.9404\n",
      "Epoch 93/300\n",
      "6/6 [==============================] - 1s 167ms/step - loss: 0.5640 - accuracy: 0.8513 - precision: 0.2437 - recall: 0.8908 - auc: 0.9445 - val_loss: 0.6368 - val_accuracy: 0.8349 - val_precision: 0.2272 - val_recall: 0.8930 - val_auc: 0.9399\n",
      "Epoch 94/300\n",
      "6/6 [==============================] - 1s 171ms/step - loss: 0.5564 - accuracy: 0.8468 - precision: 0.2473 - recall: 0.9278 - auc: 0.9467 - val_loss: 0.6005 - val_accuracy: 0.8492 - val_precision: 0.2426 - val_recall: 0.8824 - val_auc: 0.9406\n",
      "Epoch 95/300\n",
      "6/6 [==============================] - 1s 170ms/step - loss: 0.5504 - accuracy: 0.8593 - precision: 0.2653 - recall: 0.9078 - auc: 0.9479 - val_loss: 0.6069 - val_accuracy: 0.8436 - val_precision: 0.2365 - val_recall: 0.8877 - val_auc: 0.9408\n",
      "Epoch 96/300\n",
      "6/6 [==============================] - 1s 171ms/step - loss: 0.5410 - accuracy: 0.8551 - precision: 0.2513 - recall: 0.9174 - auc: 0.9480 - val_loss: 0.6031 - val_accuracy: 0.8433 - val_precision: 0.2354 - val_recall: 0.8824 - val_auc: 0.9406\n",
      "Epoch 97/300\n",
      "6/6 [==============================] - 1s 170ms/step - loss: 0.5304 - accuracy: 0.8498 - precision: 0.2493 - recall: 0.9317 - auc: 0.9512 - val_loss: 0.6041 - val_accuracy: 0.8391 - val_precision: 0.2312 - val_recall: 0.8877 - val_auc: 0.9413\n",
      "Epoch 98/300\n",
      "6/6 [==============================] - 1s 163ms/step - loss: 0.5400 - accuracy: 0.8523 - precision: 0.2565 - recall: 0.9151 - auc: 0.9461 - val_loss: 0.5848 - val_accuracy: 0.8486 - val_precision: 0.2419 - val_recall: 0.8824 - val_auc: 0.9412\n",
      "Epoch 99/300\n",
      "6/6 [==============================] - 1s 173ms/step - loss: 0.5385 - accuracy: 0.8525 - precision: 0.2599 - recall: 0.9280 - auc: 0.9454 - val_loss: 0.5973 - val_accuracy: 0.8402 - val_precision: 0.2325 - val_recall: 0.8877 - val_auc: 0.9414\n",
      "Epoch 100/300\n",
      "6/6 [==============================] - 1s 173ms/step - loss: 0.5290 - accuracy: 0.8543 - precision: 0.2532 - recall: 0.8986 - auc: 0.9465 - val_loss: 0.5793 - val_accuracy: 0.8475 - val_precision: 0.2405 - val_recall: 0.8824 - val_auc: 0.9409\n",
      "Epoch 101/300\n",
      "6/6 [==============================] - 1s 170ms/step - loss: 0.5249 - accuracy: 0.8500 - precision: 0.2403 - recall: 0.9018 - auc: 0.9437 - val_loss: 0.5884 - val_accuracy: 0.8391 - val_precision: 0.2312 - val_recall: 0.8877 - val_auc: 0.9414\n",
      "Epoch 102/300\n",
      "6/6 [==============================] - 1s 173ms/step - loss: 0.5167 - accuracy: 0.8538 - precision: 0.2469 - recall: 0.9035 - auc: 0.9463 - val_loss: 0.5618 - val_accuracy: 0.8531 - val_precision: 0.2477 - val_recall: 0.8824 - val_auc: 0.9411\n",
      "Epoch 103/300\n",
      "6/6 [==============================] - 1s 174ms/step - loss: 0.5180 - accuracy: 0.8535 - precision: 0.2572 - recall: 0.9160 - auc: 0.9467 - val_loss: 0.5859 - val_accuracy: 0.8360 - val_precision: 0.2285 - val_recall: 0.8930 - val_auc: 0.9412\n",
      "Epoch 104/300\n",
      "6/6 [==============================] - 1s 173ms/step - loss: 0.5244 - accuracy: 0.8422 - precision: 0.2444 - recall: 0.9109 - auc: 0.9426 - val_loss: 0.5787 - val_accuracy: 0.8371 - val_precision: 0.2297 - val_recall: 0.8930 - val_auc: 0.9418\n",
      "Epoch 105/300\n",
      "6/6 [==============================] - 1s 167ms/step - loss: 0.5037 - accuracy: 0.8553 - precision: 0.2523 - recall: 0.9154 - auc: 0.9478 - val_loss: 0.5442 - val_accuracy: 0.8506 - val_precision: 0.2444 - val_recall: 0.8824 - val_auc: 0.9424\n",
      "Epoch 106/300\n",
      "6/6 [==============================] - 1s 180ms/step - loss: 0.5121 - accuracy: 0.8595 - precision: 0.2724 - recall: 0.8962 - auc: 0.9474 - val_loss: 0.5469 - val_accuracy: 0.8537 - val_precision: 0.2485 - val_recall: 0.8824 - val_auc: 0.9411\n",
      "Epoch 107/300\n",
      "6/6 [==============================] - 1s 160ms/step - loss: 0.4943 - accuracy: 0.8680 - precision: 0.2760 - recall: 0.9103 - auc: 0.9511 - val_loss: 0.5307 - val_accuracy: 0.8576 - val_precision: 0.2531 - val_recall: 0.8770 - val_auc: 0.9417\n",
      "Epoch 108/300\n",
      "6/6 [==============================] - 1s 179ms/step - loss: 0.5018 - accuracy: 0.8592 - precision: 0.2537 - recall: 0.8946 - auc: 0.9434 - val_loss: 0.5732 - val_accuracy: 0.8332 - val_precision: 0.2268 - val_recall: 0.9037 - val_auc: 0.9424\n",
      "Epoch 109/300\n",
      "6/6 [==============================] - 1s 174ms/step - loss: 0.4888 - accuracy: 0.8422 - precision: 0.2393 - recall: 0.9267 - auc: 0.9488 - val_loss: 0.5444 - val_accuracy: 0.8475 - val_precision: 0.2413 - val_recall: 0.8877 - val_auc: 0.9422\n",
      "Epoch 110/300\n",
      "6/6 [==============================] - 1s 173ms/step - loss: 0.4878 - accuracy: 0.8598 - precision: 0.2605 - recall: 0.9078 - auc: 0.9479 - val_loss: 0.5298 - val_accuracy: 0.8540 - val_precision: 0.2481 - val_recall: 0.8770 - val_auc: 0.9417\n",
      "Epoch 111/300\n",
      "6/6 [==============================] - 1s 177ms/step - loss: 0.4800 - accuracy: 0.8616 - precision: 0.2645 - recall: 0.9173 - auc: 0.9488 - val_loss: 0.5368 - val_accuracy: 0.8475 - val_precision: 0.2413 - val_recall: 0.8877 - val_auc: 0.9421\n",
      "Epoch 112/300\n",
      "6/6 [==============================] - 1s 181ms/step - loss: 0.4763 - accuracy: 0.8606 - precision: 0.2636 - recall: 0.9244 - auc: 0.9491 - val_loss: 0.5382 - val_accuracy: 0.8455 - val_precision: 0.2388 - val_recall: 0.8877 - val_auc: 0.9423\n",
      "Epoch 113/300\n",
      "6/6 [==============================] - 1s 181ms/step - loss: 0.4784 - accuracy: 0.8538 - precision: 0.2541 - recall: 0.9182 - auc: 0.9464 - val_loss: 0.5232 - val_accuracy: 0.8495 - val_precision: 0.2430 - val_recall: 0.8824 - val_auc: 0.9420\n",
      "Epoch 114/300\n",
      "6/6 [==============================] - 1s 169ms/step - loss: 0.4751 - accuracy: 0.8516 - precision: 0.2555 - recall: 0.9307 - auc: 0.9473 - val_loss: 0.5590 - val_accuracy: 0.8329 - val_precision: 0.2273 - val_recall: 0.9091 - val_auc: 0.9424\n",
      "Epoch 115/300\n",
      "6/6 [==============================] - 1s 178ms/step - loss: 0.4609 - accuracy: 0.8512 - precision: 0.2510 - recall: 0.9483 - auc: 0.9522 - val_loss: 0.5000 - val_accuracy: 0.8593 - val_precision: 0.2555 - val_recall: 0.8770 - val_auc: 0.9419\n",
      "Epoch 116/300\n",
      "6/6 [==============================] - 1s 171ms/step - loss: 0.4697 - accuracy: 0.8637 - precision: 0.2718 - recall: 0.9044 - auc: 0.9493 - val_loss: 0.5276 - val_accuracy: 0.8439 - val_precision: 0.2376 - val_recall: 0.8930 - val_auc: 0.9424\n",
      "Epoch 117/300\n",
      "6/6 [==============================] - 1s 168ms/step - loss: 0.4606 - accuracy: 0.8564 - precision: 0.2573 - recall: 0.9220 - auc: 0.9494 - val_loss: 0.5106 - val_accuracy: 0.8523 - val_precision: 0.2474 - val_recall: 0.8877 - val_auc: 0.9425\n",
      "Epoch 118/300\n",
      "6/6 [==============================] - 1s 173ms/step - loss: 0.4657 - accuracy: 0.8595 - precision: 0.2657 - recall: 0.9074 - auc: 0.9476 - val_loss: 0.5113 - val_accuracy: 0.8495 - val_precision: 0.2438 - val_recall: 0.8877 - val_auc: 0.9422\n",
      "Epoch 119/300\n",
      "6/6 [==============================] - 1s 172ms/step - loss: 0.4529 - accuracy: 0.8619 - precision: 0.2623 - recall: 0.9202 - auc: 0.9491 - val_loss: 0.5124 - val_accuracy: 0.8470 - val_precision: 0.2398 - val_recall: 0.8824 - val_auc: 0.9429\n",
      "Epoch 120/300\n",
      "6/6 [==============================] - 1s 176ms/step - loss: 0.4560 - accuracy: 0.8478 - precision: 0.2592 - recall: 0.9472 - auc: 0.9493 - val_loss: 0.5176 - val_accuracy: 0.8436 - val_precision: 0.2357 - val_recall: 0.8824 - val_auc: 0.9427\n",
      "Epoch 121/300\n",
      "6/6 [==============================] - 1s 191ms/step - loss: 0.4497 - accuracy: 0.8557 - precision: 0.2628 - recall: 0.9308 - auc: 0.9510 - val_loss: 0.5054 - val_accuracy: 0.8484 - val_precision: 0.2416 - val_recall: 0.8824 - val_auc: 0.9436\n",
      "Epoch 122/300\n",
      "6/6 [==============================] - 1s 168ms/step - loss: 0.4419 - accuracy: 0.8647 - precision: 0.2718 - recall: 0.9255 - auc: 0.9518 - val_loss: 0.4957 - val_accuracy: 0.8526 - val_precision: 0.2470 - val_recall: 0.8824 - val_auc: 0.9436\n",
      "Epoch 123/300\n",
      "6/6 [==============================] - 1s 172ms/step - loss: 0.4442 - accuracy: 0.8544 - precision: 0.2542 - recall: 0.9128 - auc: 0.9496 - val_loss: 0.5273 - val_accuracy: 0.8352 - val_precision: 0.2290 - val_recall: 0.9037 - val_auc: 0.9433\n",
      "Epoch 124/300\n",
      "6/6 [==============================] - 1s 174ms/step - loss: 0.4392 - accuracy: 0.8481 - precision: 0.2511 - recall: 0.9420 - auc: 0.9507 - val_loss: 0.4842 - val_accuracy: 0.8531 - val_precision: 0.2470 - val_recall: 0.8770 - val_auc: 0.9438\n",
      "Epoch 125/300\n",
      "6/6 [==============================] - 1s 166ms/step - loss: 0.4352 - accuracy: 0.8674 - precision: 0.2637 - recall: 0.9021 - auc: 0.9499 - val_loss: 0.4896 - val_accuracy: 0.8498 - val_precision: 0.2434 - val_recall: 0.8824 - val_auc: 0.9432\n",
      "Epoch 126/300\n",
      "6/6 [==============================] - 1s 173ms/step - loss: 0.4358 - accuracy: 0.8635 - precision: 0.2728 - recall: 0.9305 - auc: 0.9507 - val_loss: 0.4915 - val_accuracy: 0.8489 - val_precision: 0.2430 - val_recall: 0.8877 - val_auc: 0.9438\n",
      "Epoch 127/300\n",
      "6/6 [==============================] - 1s 175ms/step - loss: 0.4425 - accuracy: 0.8565 - precision: 0.2636 - recall: 0.9130 - auc: 0.9485 - val_loss: 0.4816 - val_accuracy: 0.8543 - val_precision: 0.2485 - val_recall: 0.8770 - val_auc: 0.9436\n",
      "Epoch 128/300\n",
      "6/6 [==============================] - 1s 169ms/step - loss: 0.4400 - accuracy: 0.8617 - precision: 0.2698 - recall: 0.9011 - auc: 0.9485 - val_loss: 0.4752 - val_accuracy: 0.8543 - val_precision: 0.2485 - val_recall: 0.8770 - val_auc: 0.9433\n",
      "Epoch 129/300\n",
      "6/6 [==============================] - 1s 182ms/step - loss: 0.4383 - accuracy: 0.8630 - precision: 0.2578 - recall: 0.9051 - auc: 0.9441 - val_loss: 0.4854 - val_accuracy: 0.8478 - val_precision: 0.2416 - val_recall: 0.8877 - val_auc: 0.9439\n",
      "Epoch 130/300\n",
      "6/6 [==============================] - 1s 173ms/step - loss: 0.4351 - accuracy: 0.8572 - precision: 0.2576 - recall: 0.9026 - auc: 0.9472 - val_loss: 0.4873 - val_accuracy: 0.8481 - val_precision: 0.2412 - val_recall: 0.8824 - val_auc: 0.9429\n",
      "Epoch 131/300\n",
      "6/6 [==============================] - 1s 171ms/step - loss: 0.4225 - accuracy: 0.8565 - precision: 0.2614 - recall: 0.9242 - auc: 0.9516 - val_loss: 0.4876 - val_accuracy: 0.8450 - val_precision: 0.2389 - val_recall: 0.8930 - val_auc: 0.9434\n",
      "Epoch 132/300\n",
      "6/6 [==============================] - 1s 180ms/step - loss: 0.4231 - accuracy: 0.8559 - precision: 0.2536 - recall: 0.9247 - auc: 0.9487 - val_loss: 0.4798 - val_accuracy: 0.8486 - val_precision: 0.2442 - val_recall: 0.8984 - val_auc: 0.9444\n",
      "Epoch 133/300\n",
      "6/6 [==============================] - 1s 170ms/step - loss: 0.4173 - accuracy: 0.8608 - precision: 0.2620 - recall: 0.9225 - auc: 0.9508 - val_loss: 0.4629 - val_accuracy: 0.8576 - val_precision: 0.2523 - val_recall: 0.8717 - val_auc: 0.9433\n",
      "Epoch 134/300\n",
      "6/6 [==============================] - 1s 168ms/step - loss: 0.4176 - accuracy: 0.8691 - precision: 0.2757 - recall: 0.9178 - auc: 0.9502 - val_loss: 0.4625 - val_accuracy: 0.8537 - val_precision: 0.2470 - val_recall: 0.8717 - val_auc: 0.9434\n",
      "Epoch 135/300\n",
      "6/6 [==============================] - 1s 167ms/step - loss: 0.4210 - accuracy: 0.8566 - precision: 0.2563 - recall: 0.9081 - auc: 0.9476 - val_loss: 0.4794 - val_accuracy: 0.8472 - val_precision: 0.2417 - val_recall: 0.8930 - val_auc: 0.9442\n",
      "Epoch 136/300\n",
      "6/6 [==============================] - 1s 187ms/step - loss: 0.4092 - accuracy: 0.8635 - precision: 0.2660 - recall: 0.9177 - auc: 0.9518 - val_loss: 0.4555 - val_accuracy: 0.8579 - val_precision: 0.2535 - val_recall: 0.8770 - val_auc: 0.9435\n",
      "Epoch 137/300\n",
      "6/6 [==============================] - 1s 175ms/step - loss: 0.4079 - accuracy: 0.8646 - precision: 0.2646 - recall: 0.9181 - auc: 0.9508 - val_loss: 0.4797 - val_accuracy: 0.8450 - val_precision: 0.2389 - val_recall: 0.8930 - val_auc: 0.9437\n",
      "Epoch 138/300\n",
      "6/6 [==============================] - 1s 184ms/step - loss: 0.4087 - accuracy: 0.8545 - precision: 0.2596 - recall: 0.9360 - auc: 0.9506 - val_loss: 0.4480 - val_accuracy: 0.8593 - val_precision: 0.2555 - val_recall: 0.8770 - val_auc: 0.9446\n",
      "Epoch 139/300\n",
      "6/6 [==============================] - 1s 175ms/step - loss: 0.4087 - accuracy: 0.8696 - precision: 0.2768 - recall: 0.9020 - auc: 0.9508 - val_loss: 0.4692 - val_accuracy: 0.8484 - val_precision: 0.2431 - val_recall: 0.8930 - val_auc: 0.9442\n",
      "Epoch 140/300\n",
      "6/6 [==============================] - 1s 174ms/step - loss: 0.4005 - accuracy: 0.8634 - precision: 0.2615 - recall: 0.9194 - auc: 0.9515 - val_loss: 0.4464 - val_accuracy: 0.8568 - val_precision: 0.2512 - val_recall: 0.8717 - val_auc: 0.9441\n",
      "Epoch 141/300\n",
      "6/6 [==============================] - 1s 177ms/step - loss: 0.3998 - accuracy: 0.8712 - precision: 0.2758 - recall: 0.9093 - auc: 0.9517 - val_loss: 0.4597 - val_accuracy: 0.8520 - val_precision: 0.2463 - val_recall: 0.8824 - val_auc: 0.9434\n",
      "Epoch 142/300\n",
      "6/6 [==============================] - 1s 170ms/step - loss: 0.4025 - accuracy: 0.8585 - precision: 0.2707 - recall: 0.9271 - auc: 0.9518 - val_loss: 0.4529 - val_accuracy: 0.8512 - val_precision: 0.2474 - val_recall: 0.8984 - val_auc: 0.9449\n",
      "Epoch 143/300\n",
      "6/6 [==============================] - 1s 169ms/step - loss: 0.4139 - accuracy: 0.8638 - precision: 0.2671 - recall: 0.9010 - auc: 0.9454 - val_loss: 0.4448 - val_accuracy: 0.8557 - val_precision: 0.2504 - val_recall: 0.8770 - val_auc: 0.9446\n",
      "Epoch 144/300\n",
      "6/6 [==============================] - 1s 173ms/step - loss: 0.3935 - accuracy: 0.8638 - precision: 0.2705 - recall: 0.9310 - auc: 0.9523 - val_loss: 0.4479 - val_accuracy: 0.8554 - val_precision: 0.2500 - val_recall: 0.8770 - val_auc: 0.9441\n",
      "Epoch 145/300\n",
      "6/6 [==============================] - 1s 169ms/step - loss: 0.4018 - accuracy: 0.8643 - precision: 0.2689 - recall: 0.8951 - auc: 0.9498 - val_loss: 0.4396 - val_accuracy: 0.8531 - val_precision: 0.2493 - val_recall: 0.8930 - val_auc: 0.9455\n",
      "Epoch 146/300\n",
      "6/6 [==============================] - 1s 186ms/step - loss: 0.3886 - accuracy: 0.8660 - precision: 0.2669 - recall: 0.9222 - auc: 0.9520 - val_loss: 0.4358 - val_accuracy: 0.8587 - val_precision: 0.2539 - val_recall: 0.8717 - val_auc: 0.9442\n",
      "Epoch 147/300\n",
      "6/6 [==============================] - 1s 178ms/step - loss: 0.3968 - accuracy: 0.8700 - precision: 0.2789 - recall: 0.9112 - auc: 0.9498 - val_loss: 0.4447 - val_accuracy: 0.8543 - val_precision: 0.2485 - val_recall: 0.8770 - val_auc: 0.9447\n",
      "Epoch 148/300\n",
      "6/6 [==============================] - 1s 170ms/step - loss: 0.3899 - accuracy: 0.8619 - precision: 0.2694 - recall: 0.9323 - auc: 0.9518 - val_loss: 0.4623 - val_accuracy: 0.8411 - val_precision: 0.2364 - val_recall: 0.9091 - val_auc: 0.9459\n",
      "Epoch 149/300\n",
      "6/6 [==============================] - 1s 165ms/step - loss: 0.3873 - accuracy: 0.8600 - precision: 0.2655 - recall: 0.9437 - auc: 0.9515 - val_loss: 0.4391 - val_accuracy: 0.8568 - val_precision: 0.2527 - val_recall: 0.8824 - val_auc: 0.9436\n",
      "Epoch 150/300\n",
      "6/6 [==============================] - 1s 172ms/step - loss: 0.3897 - accuracy: 0.8693 - precision: 0.2730 - recall: 0.9065 - auc: 0.9506 - val_loss: 0.4513 - val_accuracy: 0.8509 - val_precision: 0.2448 - val_recall: 0.8824 - val_auc: 0.9435\n",
      "Epoch 151/300\n",
      "6/6 [==============================] - 1s 183ms/step - loss: 0.3932 - accuracy: 0.8530 - precision: 0.2586 - recall: 0.9170 - auc: 0.9501 - val_loss: 0.4487 - val_accuracy: 0.8481 - val_precision: 0.2435 - val_recall: 0.8984 - val_auc: 0.9459\n",
      "Epoch 152/300\n",
      "6/6 [==============================] - 1s 177ms/step - loss: 0.3825 - accuracy: 0.8645 - precision: 0.2687 - recall: 0.9195 - auc: 0.9524 - val_loss: 0.4162 - val_accuracy: 0.8644 - val_precision: 0.2621 - val_recall: 0.8717 - val_auc: 0.9447\n",
      "Epoch 153/300\n",
      "6/6 [==============================] - 1s 168ms/step - loss: 0.3777 - accuracy: 0.8706 - precision: 0.2788 - recall: 0.9157 - auc: 0.9534 - val_loss: 0.4624 - val_accuracy: 0.8427 - val_precision: 0.2347 - val_recall: 0.8824 - val_auc: 0.9438\n",
      "Epoch 154/300\n",
      "6/6 [==============================] - 1s 161ms/step - loss: 0.3787 - accuracy: 0.8508 - precision: 0.2485 - recall: 0.9259 - auc: 0.9530 - val_loss: 0.4275 - val_accuracy: 0.8568 - val_precision: 0.2519 - val_recall: 0.8770 - val_auc: 0.9455\n",
      "Epoch 155/300\n",
      "6/6 [==============================] - 1s 168ms/step - loss: 0.3791 - accuracy: 0.8674 - precision: 0.2667 - recall: 0.9102 - auc: 0.9503 - val_loss: 0.4518 - val_accuracy: 0.8470 - val_precision: 0.2421 - val_recall: 0.8984 - val_auc: 0.9454\n",
      "Epoch 156/300\n",
      "6/6 [==============================] - 1s 172ms/step - loss: 0.3830 - accuracy: 0.8509 - precision: 0.2512 - recall: 0.9273 - auc: 0.9502 - val_loss: 0.4507 - val_accuracy: 0.8470 - val_precision: 0.2413 - val_recall: 0.8930 - val_auc: 0.9449\n",
      "Epoch 157/300\n",
      "6/6 [==============================] - 1s 204ms/step - loss: 0.3795 - accuracy: 0.8634 - precision: 0.2663 - recall: 0.9202 - auc: 0.9501 - val_loss: 0.4101 - val_accuracy: 0.8641 - val_precision: 0.2616 - val_recall: 0.8717 - val_auc: 0.9441\n",
      "Epoch 158/300\n",
      "6/6 [==============================] - 1s 183ms/step - loss: 0.3812 - accuracy: 0.8742 - precision: 0.2859 - recall: 0.8920 - auc: 0.9517 - val_loss: 0.4277 - val_accuracy: 0.8557 - val_precision: 0.2511 - val_recall: 0.8824 - val_auc: 0.9452\n",
      "Epoch 159/300\n",
      "6/6 [==============================] - 1s 190ms/step - loss: 0.3684 - accuracy: 0.8679 - precision: 0.2729 - recall: 0.9256 - auc: 0.9527 - val_loss: 0.4326 - val_accuracy: 0.8520 - val_precision: 0.2455 - val_recall: 0.8770 - val_auc: 0.9447\n",
      "Epoch 160/300\n",
      "6/6 [==============================] - 1s 192ms/step - loss: 0.3758 - accuracy: 0.8655 - precision: 0.2679 - recall: 0.9106 - auc: 0.9501 - val_loss: 0.4294 - val_accuracy: 0.8531 - val_precision: 0.2485 - val_recall: 0.8877 - val_auc: 0.9458\n",
      "Epoch 161/300\n",
      "6/6 [==============================] - 1s 193ms/step - loss: 0.3753 - accuracy: 0.8612 - precision: 0.2674 - recall: 0.9156 - auc: 0.9508 - val_loss: 0.4318 - val_accuracy: 0.8537 - val_precision: 0.2492 - val_recall: 0.8877 - val_auc: 0.9456\n",
      "Epoch 162/300\n",
      "6/6 [==============================] - 1s 174ms/step - loss: 0.3679 - accuracy: 0.8658 - precision: 0.2692 - recall: 0.9224 - auc: 0.9525 - val_loss: 0.4341 - val_accuracy: 0.8512 - val_precision: 0.2452 - val_recall: 0.8824 - val_auc: 0.9452\n",
      "Epoch 163/300\n",
      "6/6 [==============================] - 1s 173ms/step - loss: 0.3627 - accuracy: 0.8643 - precision: 0.2713 - recall: 0.9295 - auc: 0.9549 - val_loss: 0.4246 - val_accuracy: 0.8559 - val_precision: 0.2500 - val_recall: 0.8717 - val_auc: 0.9445\n",
      "Epoch 164/300\n",
      "6/6 [==============================] - 1s 176ms/step - loss: 0.3628 - accuracy: 0.8703 - precision: 0.2731 - recall: 0.9055 - auc: 0.9541 - val_loss: 0.4139 - val_accuracy: 0.8565 - val_precision: 0.2530 - val_recall: 0.8877 - val_auc: 0.9466\n",
      "Epoch 165/300\n",
      "6/6 [==============================] - 1s 166ms/step - loss: 0.3571 - accuracy: 0.8715 - precision: 0.2737 - recall: 0.9183 - auc: 0.9550 - val_loss: 0.4360 - val_accuracy: 0.8509 - val_precision: 0.2471 - val_recall: 0.8984 - val_auc: 0.9455\n",
      "Epoch 166/300\n",
      "6/6 [==============================] - 1s 174ms/step - loss: 0.3613 - accuracy: 0.8638 - precision: 0.2656 - recall: 0.9213 - auc: 0.9542 - val_loss: 0.4132 - val_accuracy: 0.8590 - val_precision: 0.2551 - val_recall: 0.8770 - val_auc: 0.9452\n",
      "Epoch 167/300\n",
      "6/6 [==============================] - 1s 169ms/step - loss: 0.3679 - accuracy: 0.8649 - precision: 0.2827 - recall: 0.9303 - auc: 0.9527 - val_loss: 0.4062 - val_accuracy: 0.8587 - val_precision: 0.2539 - val_recall: 0.8717 - val_auc: 0.9459\n",
      "Epoch 168/300\n",
      "6/6 [==============================] - 1s 171ms/step - loss: 0.3638 - accuracy: 0.8743 - precision: 0.2885 - recall: 0.9281 - auc: 0.9523 - val_loss: 0.4050 - val_accuracy: 0.8604 - val_precision: 0.2578 - val_recall: 0.8824 - val_auc: 0.9459\n",
      "Epoch 169/300\n",
      "6/6 [==============================] - 1s 170ms/step - loss: 0.3548 - accuracy: 0.8703 - precision: 0.2765 - recall: 0.9238 - auc: 0.9544 - val_loss: 0.4374 - val_accuracy: 0.8498 - val_precision: 0.2449 - val_recall: 0.8930 - val_auc: 0.9458\n",
      "Epoch 170/300\n",
      "6/6 [==============================] - 1s 169ms/step - loss: 0.3618 - accuracy: 0.8548 - precision: 0.2556 - recall: 0.9177 - auc: 0.9525 - val_loss: 0.4024 - val_accuracy: 0.8627 - val_precision: 0.2596 - val_recall: 0.8717 - val_auc: 0.9447\n",
      "Epoch 171/300\n",
      "6/6 [==============================] - 1s 176ms/step - loss: 0.3525 - accuracy: 0.8809 - precision: 0.2958 - recall: 0.9119 - auc: 0.9558 - val_loss: 0.4139 - val_accuracy: 0.8557 - val_precision: 0.2519 - val_recall: 0.8877 - val_auc: 0.9464\n",
      "Epoch 172/300\n",
      "6/6 [==============================] - 1s 171ms/step - loss: 0.3636 - accuracy: 0.8507 - precision: 0.2589 - recall: 0.9142 - auc: 0.9529 - val_loss: 0.4268 - val_accuracy: 0.8526 - val_precision: 0.2485 - val_recall: 0.8930 - val_auc: 0.9456\n",
      "Epoch 173/300\n",
      "6/6 [==============================] - 1s 180ms/step - loss: 0.3560 - accuracy: 0.8701 - precision: 0.2768 - recall: 0.9106 - auc: 0.9531 - val_loss: 0.3916 - val_accuracy: 0.8680 - val_precision: 0.2669 - val_recall: 0.8663 - val_auc: 0.9437\n",
      "Epoch 174/300\n",
      "6/6 [==============================] - 1s 172ms/step - loss: 0.3702 - accuracy: 0.8635 - precision: 0.2769 - recall: 0.9220 - auc: 0.9498 - val_loss: 0.4547 - val_accuracy: 0.8368 - val_precision: 0.2309 - val_recall: 0.9037 - val_auc: 0.9445\n",
      "Epoch 175/300\n",
      "6/6 [==============================] - 1s 170ms/step - loss: 0.3683 - accuracy: 0.8576 - precision: 0.2592 - recall: 0.9007 - auc: 0.9484 - val_loss: 0.3890 - val_accuracy: 0.8632 - val_precision: 0.2611 - val_recall: 0.8770 - val_auc: 0.9453\n",
      "Epoch 176/300\n",
      "6/6 [==============================] - 1s 174ms/step - loss: 0.3433 - accuracy: 0.8733 - precision: 0.2829 - recall: 0.9362 - auc: 0.9561 - val_loss: 0.4403 - val_accuracy: 0.8450 - val_precision: 0.2382 - val_recall: 0.8877 - val_auc: 0.9431\n",
      "Epoch 177/300\n",
      "6/6 [==============================] - 1s 173ms/step - loss: 0.3609 - accuracy: 0.8574 - precision: 0.2638 - recall: 0.9147 - auc: 0.9514 - val_loss: 0.3802 - val_accuracy: 0.8683 - val_precision: 0.2689 - val_recall: 0.8770 - val_auc: 0.9461\n",
      "Epoch 178/300\n",
      "6/6 [==============================] - 1s 184ms/step - loss: 0.3557 - accuracy: 0.8703 - precision: 0.2800 - recall: 0.9141 - auc: 0.9514 - val_loss: 0.4251 - val_accuracy: 0.8486 - val_precision: 0.2434 - val_recall: 0.8930 - val_auc: 0.9455\n",
      "Epoch 179/300\n",
      "6/6 [==============================] - 1s 174ms/step - loss: 0.3498 - accuracy: 0.8659 - precision: 0.2695 - recall: 0.9252 - auc: 0.9533 - val_loss: 0.3785 - val_accuracy: 0.8683 - val_precision: 0.2673 - val_recall: 0.8663 - val_auc: 0.9458\n",
      "Epoch 180/300\n",
      "6/6 [==============================] - 1s 169ms/step - loss: 0.3446 - accuracy: 0.8782 - precision: 0.2930 - recall: 0.9052 - auc: 0.9560 - val_loss: 0.4376 - val_accuracy: 0.8405 - val_precision: 0.2358 - val_recall: 0.9091 - val_auc: 0.9467\n",
      "Epoch 181/300\n",
      "6/6 [==============================] - 1s 172ms/step - loss: 0.3423 - accuracy: 0.8595 - precision: 0.2593 - recall: 0.9522 - auc: 0.9546 - val_loss: 0.3957 - val_accuracy: 0.8613 - val_precision: 0.2590 - val_recall: 0.8824 - val_auc: 0.9462\n",
      "Epoch 182/300\n",
      "6/6 [==============================] - 1s 170ms/step - loss: 0.3405 - accuracy: 0.8692 - precision: 0.2839 - recall: 0.9335 - auc: 0.9565 - val_loss: 0.4175 - val_accuracy: 0.8509 - val_precision: 0.2456 - val_recall: 0.8877 - val_auc: 0.9454\n",
      "Epoch 183/300\n",
      "6/6 [==============================] - 1s 201ms/step - loss: 0.3450 - accuracy: 0.8591 - precision: 0.2590 - recall: 0.9307 - auc: 0.9531 - val_loss: 0.4026 - val_accuracy: 0.8554 - val_precision: 0.2508 - val_recall: 0.8824 - val_auc: 0.9458\n",
      "Epoch 184/300\n",
      "6/6 [==============================] - 1s 195ms/step - loss: 0.3512 - accuracy: 0.8685 - precision: 0.2754 - recall: 0.9035 - auc: 0.9516 - val_loss: 0.3903 - val_accuracy: 0.8630 - val_precision: 0.2615 - val_recall: 0.8824 - val_auc: 0.9459\n",
      "Epoch 185/300\n",
      "6/6 [==============================] - 1s 184ms/step - loss: 0.3471 - accuracy: 0.8722 - precision: 0.2881 - recall: 0.9191 - auc: 0.9542 - val_loss: 0.4115 - val_accuracy: 0.8512 - val_precision: 0.2459 - val_recall: 0.8877 - val_auc: 0.9461\n",
      "Epoch 186/300\n",
      "6/6 [==============================] - 1s 174ms/step - loss: 0.3398 - accuracy: 0.8587 - precision: 0.2577 - recall: 0.9422 - auc: 0.9536 - val_loss: 0.4187 - val_accuracy: 0.8475 - val_precision: 0.2413 - val_recall: 0.8877 - val_auc: 0.9446\n",
      "Epoch 187/300\n",
      "6/6 [==============================] - 1s 170ms/step - loss: 0.3400 - accuracy: 0.8615 - precision: 0.2654 - recall: 0.9314 - auc: 0.9554 - val_loss: 0.3795 - val_accuracy: 0.8683 - val_precision: 0.2673 - val_recall: 0.8663 - val_auc: 0.9453\n",
      "Epoch 188/300\n",
      "6/6 [==============================] - 1s 195ms/step - loss: 0.3401 - accuracy: 0.8769 - precision: 0.2834 - recall: 0.9181 - auc: 0.9537 - val_loss: 0.4179 - val_accuracy: 0.8492 - val_precision: 0.2456 - val_recall: 0.9037 - val_auc: 0.9471\n",
      "Epoch 189/300\n",
      "6/6 [==============================] - 1s 164ms/step - loss: 0.3483 - accuracy: 0.8593 - precision: 0.2697 - recall: 0.9303 - auc: 0.9512 - val_loss: 0.3552 - val_accuracy: 0.8767 - val_precision: 0.2797 - val_recall: 0.8556 - val_auc: 0.9450\n",
      "Epoch 190/300\n",
      "6/6 [==============================] - 1s 175ms/step - loss: 0.3539 - accuracy: 0.8907 - precision: 0.3038 - recall: 0.8565 - auc: 0.9502 - val_loss: 0.4244 - val_accuracy: 0.8486 - val_precision: 0.2449 - val_recall: 0.9037 - val_auc: 0.9463\n",
      "Epoch 191/300\n",
      "6/6 [==============================] - 1s 169ms/step - loss: 0.3314 - accuracy: 0.8628 - precision: 0.2665 - recall: 0.9412 - auc: 0.9570 - val_loss: 0.3960 - val_accuracy: 0.8534 - val_precision: 0.2489 - val_recall: 0.8877 - val_auc: 0.9472\n",
      "Epoch 192/300\n",
      "6/6 [==============================] - 1s 178ms/step - loss: 0.3386 - accuracy: 0.8697 - precision: 0.2811 - recall: 0.9102 - auc: 0.9555 - val_loss: 0.3932 - val_accuracy: 0.8621 - val_precision: 0.2603 - val_recall: 0.8824 - val_auc: 0.9440\n",
      "Epoch 193/300\n",
      "6/6 [==============================] - 1s 166ms/step - loss: 0.3415 - accuracy: 0.8674 - precision: 0.2717 - recall: 0.9263 - auc: 0.9529 - val_loss: 0.4168 - val_accuracy: 0.8467 - val_precision: 0.2432 - val_recall: 0.9091 - val_auc: 0.9469\n",
      "Epoch 194/300\n",
      "6/6 [==============================] - 1s 170ms/step - loss: 0.3474 - accuracy: 0.8471 - precision: 0.2505 - recall: 0.9402 - auc: 0.9507 - val_loss: 0.4017 - val_accuracy: 0.8517 - val_precision: 0.2482 - val_recall: 0.8984 - val_auc: 0.9471\n",
      "Epoch 195/300\n",
      "6/6 [==============================] - 1s 173ms/step - loss: 0.3344 - accuracy: 0.8734 - precision: 0.2911 - recall: 0.9288 - auc: 0.9565 - val_loss: 0.3911 - val_accuracy: 0.8590 - val_precision: 0.2551 - val_recall: 0.8770 - val_auc: 0.9459\n",
      "Epoch 196/300\n",
      "6/6 [==============================] - 1s 173ms/step - loss: 0.3356 - accuracy: 0.8663 - precision: 0.2741 - recall: 0.9287 - auc: 0.9543 - val_loss: 0.3951 - val_accuracy: 0.8548 - val_precision: 0.2515 - val_recall: 0.8930 - val_auc: 0.9467\n",
      "Epoch 197/300\n",
      "6/6 [==============================] - 1s 168ms/step - loss: 0.3330 - accuracy: 0.8678 - precision: 0.2718 - recall: 0.9142 - auc: 0.9543 - val_loss: 0.3836 - val_accuracy: 0.8613 - val_precision: 0.2598 - val_recall: 0.8877 - val_auc: 0.9462\n",
      "Epoch 198/300\n",
      "6/6 [==============================] - 1s 171ms/step - loss: 0.3422 - accuracy: 0.8631 - precision: 0.2638 - recall: 0.9100 - auc: 0.9509 - val_loss: 0.3946 - val_accuracy: 0.8531 - val_precision: 0.2500 - val_recall: 0.8984 - val_auc: 0.9478\n",
      "Epoch 199/300\n",
      "6/6 [==============================] - 1s 174ms/step - loss: 0.3364 - accuracy: 0.8702 - precision: 0.2684 - recall: 0.9169 - auc: 0.9518 - val_loss: 0.3941 - val_accuracy: 0.8568 - val_precision: 0.2534 - val_recall: 0.8877 - val_auc: 0.9463\n"
     ]
    }
   ],
   "source": [
    "history = model.fit(x_train, y_train, \n",
    "          batch_size = 2048, \n",
    "          epochs = 300, \n",
    "          class_weight = class_weights, \n",
    "          validation_data = (x_test, y_test),  \n",
    "          callbacks = [callback])"
   ]
  },
  {
   "cell_type": "code",
   "execution_count": 25,
   "id": "4d6f6d96-52ee-43d3-ac8e-5a231faa49a7",
   "metadata": {},
   "outputs": [
    {
     "name": "stdout",
     "output_type": "stream",
     "text": [
      "446/446 [==============================] - 1s 2ms/step - loss: 0.3373 - accuracy: 0.8881 - precision: 0.3080 - recall: 0.9052 - auc: 0.9588\n"
     ]
    }
   ],
   "source": [
    "loss, accuracy, precision, recall, auc = model.evaluate(x_dat, y_dat_onehot)"
   ]
  },
  {
   "cell_type": "code",
   "execution_count": 26,
   "id": "e883c3be-c5b7-446b-b1bd-53f7c0f8e405",
   "metadata": {},
   "outputs": [],
   "source": [
    "class_prob = model.predict(x_dat)"
   ]
  },
  {
   "cell_type": "code",
   "execution_count": 27,
   "id": "eaacddc1-ba3d-4ffc-9758-977525e8ce1e",
   "metadata": {},
   "outputs": [],
   "source": [
    "class_predictions = np.argmax(class_prob, axis = 1)"
   ]
  },
  {
   "cell_type": "code",
   "execution_count": 28,
   "id": "9e9e5abb-d866-40db-8fed-3e694bb556aa",
   "metadata": {},
   "outputs": [],
   "source": [
    "old_prediction = pd.read_csv(\"../processed_data/predicted_class_data.csv\")"
   ]
  },
  {
   "cell_type": "code",
   "execution_count": 29,
   "id": "2aef2171-d40b-422e-94bf-91e89e519ac6",
   "metadata": {},
   "outputs": [
    {
     "data": {
      "text/plain": [
       "0.02667789946644201"
      ]
     },
     "execution_count": 29,
     "metadata": {},
     "output_type": "execute_result"
    }
   ],
   "source": [
    "diff = np.where(class_predictions != old_prediction.predicted_class, 1, 0)\n",
    "np.sum(diff)/len(class_predictions)"
   ]
  },
  {
   "cell_type": "markdown",
   "id": "37e14b0a-83de-4fa8-b1dd-a399eb2b6fea",
   "metadata": {},
   "source": [
    "#### Calculate trend in EPCP occurrences per year:"
   ]
  },
  {
   "cell_type": "code",
   "execution_count": 30,
   "id": "ea14e344-a620-45a7-94fd-c8726e0f16f6",
   "metadata": {},
   "outputs": [],
   "source": [
    "epcp_annual = pd.DataFrame({\"date\":pd.to_datetime(old_prediction.date), \n",
    "                            \"prediction\":class_predictions})\n",
    "epcp_annual = epcp_annual.groupby(epcp_annual.date.dt.year).sum()"
   ]
  },
  {
   "cell_type": "code",
   "execution_count": 31,
   "id": "2150b3d5-d58b-47f1-b036-90f6b28a9103",
   "metadata": {},
   "outputs": [],
   "source": [
    "early_ind = epcp_annual.index <= param.early_stop\n",
    "early_plot_ind = epcp_annual.index <= param.early_stop + 1\n",
    "late_ind = epcp_annual.index > param.early_stop"
   ]
  },
  {
   "cell_type": "code",
   "execution_count": 32,
   "id": "9e063cc7-ee4c-4885-9534-1787d99e5d3c",
   "metadata": {},
   "outputs": [],
   "source": [
    "def calc_trends(dat):\n",
    "    x = dat.index\n",
    "    y = dat.values\n",
    "    df = pd.DataFrame({\"var\": [dat.columns[0]]})\n",
    "    df[['int', 'slope', 'pval']] = util.fit_ols(x, y)\n",
    "    df[['int_early', 'slope_early', 'pval_early']] = util.fit_ols(x[early_ind], y[early_ind])\n",
    "    df[['int_late', 'slope_late', 'pval_late']] = util.fit_ols(x[late_ind], y[late_ind])\n",
    "\n",
    "    return(df)"
   ]
  },
  {
   "cell_type": "code",
   "execution_count": 33,
   "id": "f0534fb8-f060-401c-8487-aee85a05c00d",
   "metadata": {},
   "outputs": [
    {
     "data": {
      "text/html": [
       "<div>\n",
       "<style scoped>\n",
       "    .dataframe tbody tr th:only-of-type {\n",
       "        vertical-align: middle;\n",
       "    }\n",
       "\n",
       "    .dataframe tbody tr th {\n",
       "        vertical-align: top;\n",
       "    }\n",
       "\n",
       "    .dataframe thead th {\n",
       "        text-align: right;\n",
       "    }\n",
       "</style>\n",
       "<table border=\"1\" class=\"dataframe\">\n",
       "  <thead>\n",
       "    <tr style=\"text-align: right;\">\n",
       "      <th></th>\n",
       "      <th>var</th>\n",
       "      <th>int</th>\n",
       "      <th>slope</th>\n",
       "      <th>pval</th>\n",
       "      <th>int_early</th>\n",
       "      <th>slope_early</th>\n",
       "      <th>pval_early</th>\n",
       "      <th>int_late</th>\n",
       "      <th>slope_late</th>\n",
       "      <th>pval_late</th>\n",
       "    </tr>\n",
       "  </thead>\n",
       "  <tbody>\n",
       "    <tr>\n",
       "      <th>0</th>\n",
       "      <td>prediction</td>\n",
       "      <td>-332.22807</td>\n",
       "      <td>0.194332</td>\n",
       "      <td>0.13467</td>\n",
       "      <td>-17.684211</td>\n",
       "      <td>0.036842</td>\n",
       "      <td>0.923083</td>\n",
       "      <td>-1879.776692</td>\n",
       "      <td>0.96391</td>\n",
       "      <td>0.005615</td>\n",
       "    </tr>\n",
       "  </tbody>\n",
       "</table>\n",
       "</div>"
      ],
      "text/plain": [
       "          var        int     slope     pval  int_early  slope_early  \\\n",
       "0  prediction -332.22807  0.194332  0.13467 -17.684211     0.036842   \n",
       "\n",
       "   pval_early     int_late  slope_late  pval_late  \n",
       "0    0.923083 -1879.776692     0.96391   0.005615  "
      ]
     },
     "execution_count": 33,
     "metadata": {},
     "output_type": "execute_result"
    }
   ],
   "source": [
    "trend_dat = calc_trends(epcp_annual)\n",
    "trend_dat "
   ]
  },
  {
   "cell_type": "markdown",
   "id": "310f2121-1cd0-4782-87fd-c11e5fddc229",
   "metadata": {},
   "source": [
    "### Figure S3: moving threshold comparison figure"
   ]
  },
  {
   "cell_type": "code",
   "execution_count": 34,
   "id": "35c78daf-c446-41c6-a585-b7684c5e4cc6",
   "metadata": {},
   "outputs": [],
   "source": [
    "moving_col = \"rebeccapurple\""
   ]
  },
  {
   "cell_type": "code",
   "execution_count": 35,
   "id": "02df2ea5-4c34-46f1-ad94-416e6ab1b4ec",
   "metadata": {},
   "outputs": [
    {
     "data": {
      "image/png": "[encoded data removed]",
      "text/plain": [
       "<Figure size 840x240 with 2 Axes>"
      ]
     },
     "metadata": {
      "needs_background": "light"
     },
     "output_type": "display_data"
    }
   ],
   "source": [
    "fig = plt.figure(figsize = (7, 2))\n",
    "\n",
    "ax = fig.add_axes([0.08, 0.12, 0.19, 0.65])\n",
    "ax.plot(p95_rolling21.year, p95_rolling21.p95_rolling21, color = moving_col, label = \"21y moving window\")\n",
    "ax.hlines(p95, 1981, 2019, \"k\", label = \"constant (39 years)\")\n",
    "ax.set(ylim = (5, 12), xlim = (1980, 2020), ylabel = \"p95 threshold (mm/day)\")\n",
    "figu.format_plot(ax)\n",
    "ax.legend(frameon=False, bbox_to_anchor = (1.2, 0.95))\n",
    "figu.add_panel_label(ax, \"a\", x = -0.3)\n",
    "fig.suptitle(\"Results of training CNN with moving p95 threshold\", weight = \"bold\")\n",
    "\n",
    "ax.text(x = 1.35, y = 0.85, s = \"CNN performance:\", transform = ax.transAxes, size = 8)\n",
    "ax.text(x = 1.45, y = 0.65, s = r\"$\\bf{Recall: }$\" + str(np.round(recall, 2)), size = 7.5,\n",
    "       transform=ax.transAxes)\n",
    "ax.text(x = 1.45, y = 0.55, s = r\"$\\bf{Precision: }$\" + str(np.round(precision, 2)), size = 7.5,\n",
    "       transform=ax.transAxes)\n",
    "ax.text(x = 1.45, y = 0.45, s = r\"$\\bf{Accuracy: }$\" + str(np.round(accuracy, 2)), size = 7.5,\n",
    "       transform=ax.transAxes)\n",
    "ax.text(x = 1.45, y = 0.35, s = r\"$\\bf{AUC: }$\" + str(np.round(auc, 2)), size = 7.5,\n",
    "       transform=ax.transAxes)\n",
    "ax.text(x = 1.45, y = 0.05, s = \"% of days reclassified\\ncompared to\\nmain model: \" + \n",
    "        str(np.round(np.sum(diff)/len(class_predictions)*100, 2)) + \"%\", \n",
    "       transform = ax.transAxes, size = 7.5)\n",
    "\n",
    "ax = fig.add_axes([0.62, 0.12, 0.35, 0.65])\n",
    "x = epcp_annual.index\n",
    "y = epcp_annual.values.squeeze()\n",
    "ax.plot(x[early_plot_ind], y[early_plot_ind], \n",
    "        color = figu.base_col, marker = '.')\n",
    "ax.plot(x[late_ind], y[late_ind], marker = '.', color = moving_col)\n",
    "## plot trend lines\n",
    "ax.plot(x, x*trend_dat.iloc[0]['slope']+trend_dat.iloc[0]['int'], color = 'k')\n",
    "ax.plot(x[early_ind], x[early_ind]*trend_dat.iloc[0]['slope_early']+trend_dat.iloc[0]['int_early'], \n",
    "        color = figu.base_col)\n",
    "ax.plot(x[late_ind], x[late_ind]*trend_dat.iloc[0]['slope_late']+trend_dat.iloc[0]['int_late'], \n",
    "        color = moving_col)\n",
    "## plot text\n",
    "ax.text(x = 1, y = 0.04, s = 'slope = ' + str(np.round(trend_dat.iloc[0]['slope'], 2)) + \n",
    "        ', p = ' + str(np.round(trend_dat.iloc[0]['pval'], 2)), \n",
    "       transform=ax.transAxes, size = 7.5, horizontalalignment='right')\n",
    "ax.text(x = 0.05, y = 0.85, s = 'slope = ' + str(np.round(trend_dat.iloc[0]['slope_early'], 2)) + \n",
    "        '\\np = ' + str(np.round(trend_dat.iloc[0]['pval_early'], 2)), \n",
    "       transform=ax.transAxes, size = 7.5, color = figu.base_col, horizontalalignment='left')\n",
    "ax.text(x = 1, y = 0.85, s = 'slope = ' + str(np.round(trend_dat.iloc[0]['slope_late'], 2)) + \n",
    "        '\\np = ' + str(np.round(trend_dat.iloc[0]['pval_late'], 2)), \n",
    "       transform=ax.transAxes, size = 7.5, color = moving_col, horizontalalignment='right')\n",
    "ax.set(title = 'EPCP occurrences per year', \n",
    "       ylim = (27,93), xlim = (1980, 2020), ylabel = \"days per year\")\n",
    "figu.format_plot(ax)\n",
    "figu.add_panel_label(ax, 'b')\n",
    "\n",
    "fig.savefig(\"../figures/figure_S3.pdf\")"
   ]
  },
  {
   "cell_type": "code",
   "execution_count": null,
   "id": "df6b467f-017a-422a-aa00-1c73c3f43298",
   "metadata": {},
   "outputs": [],
   "source": []
  }
 ],
 "metadata": {
  "kernelspec": {
   "display_name": "Python 3",
   "language": "python",
   "name": "python3"
  },
  "language_info": {
   "codemirror_mode": {
    "name": "ipython",
    "version": 3
   },
   "file_extension": ".py",
   "mimetype": "text/x-python",
   "name": "python",
   "nbconvert_exporter": "python",
   "pygments_lexer": "ipython3",
   "version": "3.6.13"
  }
 },
 "nbformat": 4,
 "nbformat_minor": 5
}
