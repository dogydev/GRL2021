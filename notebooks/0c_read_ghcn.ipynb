{
 "cells": [
  {
   "cell_type": "markdown",
   "id": "2035962c-3301-42a4-9b04-5353f0951ae8",
   "metadata": {},
   "source": [
    "## Read GHCN precipitation data"
   ]
  },
  {
   "cell_type": "code",
   "execution_count": null,
   "id": "4d1f7f9e-fc1a-4fca-b4b2-70d93d4d598f",
   "metadata": {},
   "outputs": [],
   "source": [
    "import numpy as np\n",
    "import pandas as pd"
   ]
  },
  {
   "cell_type": "markdown",
   "id": "7f14f98c-e6ff-459e-aedd-8e7532a322e0",
   "metadata": {},
   "source": [
    "#### Read station inventory"
   ]
  },
  {
   "cell_type": "code",
   "execution_count": null,
   "id": "8f543406-1290-4b8a-bac3-bed3cfbf3b51",
   "metadata": {},
   "outputs": [],
   "source": [
    "ghcn_stations = pd.read_table(\"../input_data/GHCN-Daily/ghcnd-inventory.txt\", sep='\\s+',\n",
    "                              names=['ID', 'LATITUDE', 'LONGITUDE', 'ELEMENT', \n",
    "                                'FIRST_YEAR', 'LAST_YEAR']) "
   ]
  },
  {
   "cell_type": "code",
   "execution_count": null,
   "id": "d1fd3b89-a518-47ca-88c2-6d39a3078799",
   "metadata": {},
   "outputs": [],
   "source": [
    "# select for precip stations\n",
    "ghcn_stations = ghcn_stations.loc[ghcn_stations.ELEMENT == \"PRCP\"]\n",
    "\n",
    "# select for midwest region\n",
    "ghcn_stations = ghcn_stations.loc[(ghcn_stations.LATITUDE >= 37) & \n",
    "                        (ghcn_stations.LATITUDE <= 48) & \n",
    "                        (ghcn_stations.LONGITUDE >= -104) & \n",
    "                        (ghcn_stations.LONGITUDE <= -86)]\n",
    "\n",
    "# select for full time period\n",
    "ghcn_stations = ghcn_stations.loc[(ghcn_stations.FIRST_YEAR <= 1981) & \n",
    "                       (ghcn_stations.LAST_YEAR >= 2019)]"
   ]
  },
  {
   "cell_type": "markdown",
   "id": "ea8f4c3c-797e-4e11-b6e5-7b5554711b3e",
   "metadata": {},
   "source": [
    "#### Read/combine precipitation data for midwest stations"
   ]
  },
  {
   "cell_type": "code",
   "execution_count": null,
   "id": "b8276241-43c4-45c8-9ec9-ccbbe03d3d27",
   "metadata": {
    "tags": []
   },
   "outputs": [],
   "source": [
    "ghcn_dat = []\n",
    "\n",
    "for year in range(1981, 2020):\n",
    "    ## read annual data and subset\n",
    "    t = pd.read_csv(\"../input_data/GHCN-Daily/years_csv/\"+str(year)+\".csv\", \n",
    "                        names = ['ID', 'DATE', 'ELEMENT', 'DATA_VALUE', 'M_FLAG', \n",
    "                        'Q_FLAG', 'S_FLAG', 'OBS_TIME'], \n",
    "                        dtype = {'ID': 'string', 'DATE': 'int64', 'ELEMENT': 'string', \n",
    "                        'DATA_VALUE': 'float64', 'M_FLAG': 'string', 'Q_FLAG': 'string', \n",
    "                        'S_FLAG': 'string'})\n",
    "    t = t.loc[t.ID.isin(ghcn_stations.ID) & \n",
    "                 (t.ELEMENT == \"PRCP\")]\n",
    "        \n",
    "    ghcn_dat.append(t)\n",
    "    \n",
    "ghcn_dat = pd.concat(ghcn_dat)"
   ]
  },
  {
   "cell_type": "code",
   "execution_count": null,
   "id": "42c2cf82-312a-46f9-9d17-6c4f7c76413a",
   "metadata": {},
   "outputs": [],
   "source": [
    "# remove records that were flagged for quality issue \n",
    "ghcn_dat = ghcn_dat[ghcn_dat.Q_FLAG.isna()] "
   ]
  },
  {
   "cell_type": "code",
   "execution_count": null,
   "id": "ee93c026-db21-42cb-aff5-2440a6451c8a",
   "metadata": {},
   "outputs": [],
   "source": [
    "## Find stations with complete data \n",
    "missing_thr = 10 # max percentage of missing dates\n",
    "\n",
    "record_count = ghcn_dat.groupby(ghcn_dat.ID).count().reset_index()\n",
    "complete_stations = record_count.loc[(14244-record_count.DATE)/14244 <= missing_thr/100].ID\n",
    "    \n",
    "ghcn_dat = ghcn_dat[ghcn_dat.ID.isin(complete_stations)]\n",
    "    \n",
    "print(str(len(complete_stations)) + ' stations with < ' + str(missing_thr) + '% of days missing')"
   ]
  },
  {
   "cell_type": "code",
   "execution_count": null,
   "id": "17828f6f-d4e7-497e-b84d-6f888d0a03f8",
   "metadata": {},
   "outputs": [],
   "source": [
    "## save combined data\n",
    "ghcn_dat = ghcn_dat.drop(columns = [\"M_FLAG\", \"Q_FLAG\", \"S_FLAG\", \"OBS_TIME\", \"ELEMENT\"]).join(\n",
    "        ghcn_stations.drop(columns=[\"ELEMENT\", \"FIRST_YEAR\", \"LAST_YEAR\"]).set_index(\"ID\"), \n",
    "              on = \"ID\", how = \"left\")\n",
    "    \n",
    "ghcn_dat.to_csv(\"../processed_data/ghcn_midwest_data.csv\", index = False)"
   ]
  }
 ],
 "metadata": {
  "kernelspec": {
   "display_name": "Python 3",
   "language": "python",
   "name": "python3"
  },
  "language_info": {
   "codemirror_mode": {
    "name": "ipython",
    "version": 3
   },
   "file_extension": ".py",
   "mimetype": "text/x-python",
   "name": "python",
   "nbconvert_exporter": "python",
   "pygments_lexer": "ipython3",
   "version": "3.6.13"
  }
 },
 "nbformat": 4,
 "nbformat_minor": 5
}
