{
 "cells": [
  {
   "cell_type": "markdown",
   "metadata": {},
   "source": [
    "## Layer-wise Relevance Propagation\n",
    "\n",
    "Implement LRP using iNNvestigate package: https://innvestigate.readthedocs.io/en/latest/index.html. iNNvestigate currently works with keras models and tensorflow 1.X. In this notebook, the sequential model is recreated in keras, and the trained weights are loaded. \n",
    "\n",
    "link to older Keras documentation: https://faroit.com/keras-docs/2.0.2/metrics/#binary_accuracy"
   ]
  },
  {
   "cell_type": "code",
   "execution_count": 1,
   "metadata": {},
   "outputs": [],
   "source": [
    "import numpy as np\n",
    "import pandas as pd\n",
    "import xarray as xr"
   ]
  },
  {
   "cell_type": "code",
   "execution_count": 2,
   "metadata": {},
   "outputs": [
    {
     "name": "stderr",
     "output_type": "stream",
     "text": [
      "Using TensorFlow backend.\n"
     ]
    }
   ],
   "source": [
    "import keras"
   ]
  },
  {
   "cell_type": "code",
   "execution_count": 3,
   "metadata": {},
   "outputs": [],
   "source": [
    "import innvestigate"
   ]
  },
  {
   "cell_type": "code",
   "execution_count": 4,
   "metadata": {},
   "outputs": [],
   "source": [
    "import importlib"
   ]
  },
  {
   "cell_type": "code",
   "execution_count": 5,
   "metadata": {},
   "outputs": [
    {
     "data": {
      "text/plain": [
       "<module 'project_utils.parameters' from '/oak/stanford/groups/omramom/group_members/fvdav/projects/precip_clustering/project_utils/parameters.py'>"
      ]
     },
     "execution_count": 5,
     "metadata": {},
     "output_type": "execute_result"
    }
   ],
   "source": [
    "## project_utils are functions/variables defined by me\n",
    "from project_utils import parameters as param\n",
    "from project_utils import utils as util\n",
    "from project_utils import read_utils as read\n",
    "\n",
    "importlib.reload(read)\n",
    "importlib.reload(util)\n",
    "importlib.reload(param)"
   ]
  },
  {
   "cell_type": "markdown",
   "metadata": {},
   "source": [
    "### Build keras model and load pre-trained weights"
   ]
  },
  {
   "cell_type": "code",
   "execution_count": 6,
   "metadata": {},
   "outputs": [],
   "source": [
    "## slightly different syntax to build model in TF1 (comments note differences)\n",
    "def build_model_keras(lr = .0004, conv_filters = 16, dense_neurons = 16, \n",
    "                             dense_layers = 1, \n",
    "                activity_reg = 0.001, dropout_rate = 0.2, input_channels = 2):\n",
    "\n",
    "    model = keras.models.Sequential() \n",
    "    model.add(keras.layers.InputLayer(input_shape=(15, 35, input_channels))) ## define input shape\n",
    "    ## InputLayer instead of Input, input_shape instead of shape\n",
    "    \n",
    "    model.add(keras.layers.Conv2D(conv_filters, \n",
    "                            (3,3), activity_regularizer=keras.regularizers.l2(0.01))) \n",
    "    model.add(keras.layers.Activation('relu')) \n",
    "    model.add(keras.layers.MaxPooling2D((2,2)))\n",
    "                            \n",
    "    model.add(keras.layers.Conv2D(conv_filters, (3,3), activity_regularizer=keras.regularizers.l2(activity_reg))) \n",
    "    model.add(keras.layers.Activation('relu')) \n",
    "    model.add(keras.layers.MaxPooling2D((2,2))) \n",
    "                            \n",
    "    model.add(keras.layers.Flatten()) \n",
    "    for i in range(dense_layers):\n",
    "        model.add(keras.layers.Dense(dense_neurons, activity_regularizer=keras.regularizers.l2(activity_reg)))\n",
    "        model.add(keras.layers.Activation('relu'))\n",
    "     \n",
    "    model.add(keras.layers.Dense(2, activation='softmax')) \n",
    "    \n",
    "    model.compile(loss=keras.losses.categorical_crossentropy, ## instead of CategoricalCrossentropy\n",
    "                  optimizer=keras.optimizers.Adam(lr = lr), ## lr instead of learning_rate\n",
    "                  metrics=['categorical_accuracy'])\n",
    "    return(model)"
   ]
  },
  {
   "cell_type": "code",
   "execution_count": 7,
   "metadata": {},
   "outputs": [
    {
     "name": "stdout",
     "output_type": "stream",
     "text": [
      "WARNING:tensorflow:From /oak/stanford/groups/omramom/group_members/fvdav/projects/precip_clustering/envstf1/lib/python3.6/site-packages/keras/backend/tensorflow_backend.py:74: The name tf.get_default_graph is deprecated. Please use tf.compat.v1.get_default_graph instead.\n",
      "\n",
      "WARNING:tensorflow:From /oak/stanford/groups/omramom/group_members/fvdav/projects/precip_clustering/envstf1/lib/python3.6/site-packages/keras/backend/tensorflow_backend.py:517: The name tf.placeholder is deprecated. Please use tf.compat.v1.placeholder instead.\n",
      "\n",
      "WARNING:tensorflow:From /oak/stanford/groups/omramom/group_members/fvdav/projects/precip_clustering/envstf1/lib/python3.6/site-packages/keras/backend/tensorflow_backend.py:4138: The name tf.random_uniform is deprecated. Please use tf.random.uniform instead.\n",
      "\n",
      "WARNING:tensorflow:From /oak/stanford/groups/omramom/group_members/fvdav/projects/precip_clustering/envstf1/lib/python3.6/site-packages/keras/backend/tensorflow_backend.py:3976: The name tf.nn.max_pool is deprecated. Please use tf.nn.max_pool2d instead.\n",
      "\n",
      "WARNING:tensorflow:From /oak/stanford/groups/omramom/group_members/fvdav/projects/precip_clustering/envstf1/lib/python3.6/site-packages/keras/optimizers.py:790: The name tf.train.Optimizer is deprecated. Please use tf.compat.v1.train.Optimizer instead.\n",
      "\n",
      "WARNING:tensorflow:From /oak/stanford/groups/omramom/group_members/fvdav/projects/precip_clustering/envstf1/lib/python3.6/site-packages/keras/backend/tensorflow_backend.py:3295: The name tf.log is deprecated. Please use tf.math.log instead.\n",
      "\n"
     ]
    }
   ],
   "source": [
    "model = build_model_keras()"
   ]
  },
  {
   "cell_type": "code",
   "execution_count": 8,
   "metadata": {},
   "outputs": [
    {
     "name": "stdout",
     "output_type": "stream",
     "text": [
      "WARNING:tensorflow:From /oak/stanford/groups/omramom/group_members/fvdav/projects/precip_clustering/envstf1/lib/python3.6/site-packages/keras/backend/tensorflow_backend.py:174: The name tf.get_default_session is deprecated. Please use tf.compat.v1.get_default_session instead.\n",
      "\n",
      "WARNING:tensorflow:From /oak/stanford/groups/omramom/group_members/fvdav/projects/precip_clustering/envstf1/lib/python3.6/site-packages/keras/backend/tensorflow_backend.py:184: The name tf.ConfigProto is deprecated. Please use tf.compat.v1.ConfigProto instead.\n",
      "\n",
      "WARNING:tensorflow:From /oak/stanford/groups/omramom/group_members/fvdav/projects/precip_clustering/envstf1/lib/python3.6/site-packages/keras/backend/tensorflow_backend.py:186: The name tf.Session is deprecated. Please use tf.compat.v1.Session instead.\n",
      "\n",
      "WARNING:tensorflow:From /oak/stanford/groups/omramom/group_members/fvdav/projects/precip_clustering/envstf1/lib/python3.6/site-packages/keras/backend/tensorflow_backend.py:190: The name tf.global_variables is deprecated. Please use tf.compat.v1.global_variables instead.\n",
      "\n",
      "WARNING:tensorflow:From /oak/stanford/groups/omramom/group_members/fvdav/projects/precip_clustering/envstf1/lib/python3.6/site-packages/keras/backend/tensorflow_backend.py:199: The name tf.is_variable_initialized is deprecated. Please use tf.compat.v1.is_variable_initialized instead.\n",
      "\n",
      "WARNING:tensorflow:From /oak/stanford/groups/omramom/group_members/fvdav/projects/precip_clustering/envstf1/lib/python3.6/site-packages/keras/backend/tensorflow_backend.py:206: The name tf.variables_initializer is deprecated. Please use tf.compat.v1.variables_initializer instead.\n",
      "\n"
     ]
    }
   ],
   "source": [
    "model.load_weights(\"../processed_data/trained_weights.h5\")"
   ]
  },
  {
   "cell_type": "code",
   "execution_count": 9,
   "metadata": {},
   "outputs": [],
   "source": [
    "x_dat = read.get_hgt_slp_input()\n",
    "y_dat = util.get_precip_classes(pd.read_csv(\"../processed_data/region_mean_precip.csv\")[\"prcp\"], \n",
    "                               q = [0.95])"
   ]
  },
  {
   "cell_type": "code",
   "execution_count": 10,
   "metadata": {},
   "outputs": [],
   "source": [
    "y_dat_onehot = util.onehot(y_dat)"
   ]
  },
  {
   "cell_type": "code",
   "execution_count": 11,
   "metadata": {},
   "outputs": [],
   "source": [
    "ind = np.arange(len(y_dat))"
   ]
  },
  {
   "cell_type": "code",
   "execution_count": 12,
   "metadata": {},
   "outputs": [],
   "source": [
    "from sklearn.model_selection import train_test_split"
   ]
  },
  {
   "cell_type": "code",
   "execution_count": 13,
   "metadata": {},
   "outputs": [],
   "source": [
    "x_train, x_test, y_train, y_test, ind_train, ind_test = train_test_split(x_dat, y_dat, ind, test_size=0.25, random_state=42, \n",
    "                                                   shuffle = True, stratify = y_dat)"
   ]
  },
  {
   "cell_type": "markdown",
   "metadata": {},
   "source": [
    "#### compare predictions to TF2"
   ]
  },
  {
   "cell_type": "code",
   "execution_count": 14,
   "metadata": {},
   "outputs": [
    {
     "name": "stdout",
     "output_type": "stream",
     "text": [
      "14244/14244 [==============================] - 2s 115us/step\n"
     ]
    },
    {
     "data": {
      "text/plain": [
       "[4.879402918264592, 0.8803706823925863]"
      ]
     },
     "execution_count": 14,
     "metadata": {},
     "output_type": "execute_result"
    }
   ],
   "source": [
    "model.evaluate(x_dat, y_dat_onehot)"
   ]
  },
  {
   "cell_type": "markdown",
   "metadata": {},
   "source": [
    "^ same accuracy as tf2 model (very small error <0.0000001)"
   ]
  },
  {
   "cell_type": "code",
   "execution_count": 15,
   "metadata": {},
   "outputs": [],
   "source": [
    "predict_df = pd.read_csv(\"../processed_data/predicted_class_data.csv\")"
   ]
  },
  {
   "cell_type": "code",
   "execution_count": 16,
   "metadata": {},
   "outputs": [],
   "source": [
    "test_predictions = predict_df.loc[predict_df.set == 'test']"
   ]
  },
  {
   "cell_type": "code",
   "execution_count": 17,
   "metadata": {},
   "outputs": [],
   "source": [
    "test_predictions_tf1 = np.argmax(model.predict(x_dat)[np.sort(ind_test)], axis = 1)"
   ]
  },
  {
   "cell_type": "code",
   "execution_count": 18,
   "metadata": {},
   "outputs": [
    {
     "data": {
      "text/plain": [
       "0"
      ]
     },
     "execution_count": 18,
     "metadata": {},
     "output_type": "execute_result"
    }
   ],
   "source": [
    "np.sum(test_predictions_tf1 != test_predictions.predicted_class)"
   ]
  },
  {
   "cell_type": "markdown",
   "metadata": {},
   "source": [
    "^ all predictions match. (Also checked that probabilities match)"
   ]
  },
  {
   "cell_type": "markdown",
   "metadata": {},
   "source": [
    "## LRP\n",
    "\n",
    "see Montavon et al. (https://www.sciencedirect.com/science/article/pii/S1051200417302385)\n",
    "\n",
    "LRP algorithm using Alpha-Beta rule - Alpha1Beta0 only tracks positive relevance "
   ]
  },
  {
   "cell_type": "code",
   "execution_count": 19,
   "metadata": {},
   "outputs": [],
   "source": [
    "model_strip = innvestigate.utils.model_wo_softmax(model)"
   ]
  },
  {
   "cell_type": "code",
   "execution_count": 20,
   "metadata": {},
   "outputs": [],
   "source": [
    "## create analyzer object \n",
    "lrp_analyzerA1B0 = innvestigate.analyzer.relevance_based.relevance_analyzer.LRPAlpha1Beta0(model_strip)"
   ]
  },
  {
   "cell_type": "markdown",
   "metadata": {},
   "source": [
    "### save relevance data for all days"
   ]
  },
  {
   "cell_type": "code",
   "execution_count": 33,
   "metadata": {},
   "outputs": [],
   "source": [
    "rel_all = lrp_analyzerA1B0.analyze(x_dat)"
   ]
  },
  {
   "cell_type": "code",
   "execution_count": 34,
   "metadata": {},
   "outputs": [],
   "source": [
    "rel_data = xr.Dataset(\n",
    "    data_vars=dict(\n",
    "        rel_hgt=([\"time\", \"lat\", \"lon\"], rel_all[:,:,:,0]), \n",
    "        rel_slp=([\"time\", \"lat\", \"lon\"], rel_all[:,:,:,1]),\n",
    "    ),\n",
    "    coords=dict(\n",
    "        time=predict_df.date.values, \n",
    "        lat = param.lats, \n",
    "        lon = param.lons),\n",
    ")"
   ]
  },
  {
   "cell_type": "code",
   "execution_count": 35,
   "metadata": {},
   "outputs": [
    {
     "data": {
      "text/html": [
       "<div><svg style=\"position: absolute; width: 0; height: 0; overflow: hidden\">\n",
       "<defs>\n",
       "<symbol id=\"icon-database\" viewBox=\"0 0 32 32\">\n",
       "<path d=\"M16 0c-8.837 0-16 2.239-16 5v4c0 2.761 7.163 5 16 5s16-2.239 16-5v-4c0-2.761-7.163-5-16-5z\"></path>\n",
       "<path d=\"M16 17c-8.837 0-16-2.239-16-5v6c0 2.761 7.163 5 16 5s16-2.239 16-5v-6c0 2.761-7.163 5-16 5z\"></path>\n",
       "<path d=\"M16 26c-8.837 0-16-2.239-16-5v6c0 2.761 7.163 5 16 5s16-2.239 16-5v-6c0 2.761-7.163 5-16 5z\"></path>\n",
       "</symbol>\n",
       "<symbol id=\"icon-file-text2\" viewBox=\"0 0 32 32\">\n",
       "<path d=\"M28.681 7.159c-0.694-0.947-1.662-2.053-2.724-3.116s-2.169-2.030-3.116-2.724c-1.612-1.182-2.393-1.319-2.841-1.319h-15.5c-1.378 0-2.5 1.121-2.5 2.5v27c0 1.378 1.122 2.5 2.5 2.5h23c1.378 0 2.5-1.122 2.5-2.5v-19.5c0-0.448-0.137-1.23-1.319-2.841zM24.543 5.457c0.959 0.959 1.712 1.825 2.268 2.543h-4.811v-4.811c0.718 0.556 1.584 1.309 2.543 2.268zM28 29.5c0 0.271-0.229 0.5-0.5 0.5h-23c-0.271 0-0.5-0.229-0.5-0.5v-27c0-0.271 0.229-0.5 0.5-0.5 0 0 15.499-0 15.5 0v7c0 0.552 0.448 1 1 1h7v19.5z\"></path>\n",
       "<path d=\"M23 26h-14c-0.552 0-1-0.448-1-1s0.448-1 1-1h14c0.552 0 1 0.448 1 1s-0.448 1-1 1z\"></path>\n",
       "<path d=\"M23 22h-14c-0.552 0-1-0.448-1-1s0.448-1 1-1h14c0.552 0 1 0.448 1 1s-0.448 1-1 1z\"></path>\n",
       "<path d=\"M23 18h-14c-0.552 0-1-0.448-1-1s0.448-1 1-1h14c0.552 0 1 0.448 1 1s-0.448 1-1 1z\"></path>\n",
       "</symbol>\n",
       "</defs>\n",
       "</svg>\n",
       "<style>/* CSS stylesheet for displaying xarray objects in jupyterlab.\n",
       " *\n",
       " */\n",
       "\n",
       ":root {\n",
       "  --xr-font-color0: var(--jp-content-font-color0, rgba(0, 0, 0, 1));\n",
       "  --xr-font-color2: var(--jp-content-font-color2, rgba(0, 0, 0, 0.54));\n",
       "  --xr-font-color3: var(--jp-content-font-color3, rgba(0, 0, 0, 0.38));\n",
       "  --xr-border-color: var(--jp-border-color2, #e0e0e0);\n",
       "  --xr-disabled-color: var(--jp-layout-color3, #bdbdbd);\n",
       "  --xr-background-color: var(--jp-layout-color0, white);\n",
       "  --xr-background-color-row-even: var(--jp-layout-color1, white);\n",
       "  --xr-background-color-row-odd: var(--jp-layout-color2, #eeeeee);\n",
       "}\n",
       "\n",
       "html[theme=dark],\n",
       "body.vscode-dark {\n",
       "  --xr-font-color0: rgba(255, 255, 255, 1);\n",
       "  --xr-font-color2: rgba(255, 255, 255, 0.54);\n",
       "  --xr-font-color3: rgba(255, 255, 255, 0.38);\n",
       "  --xr-border-color: #1F1F1F;\n",
       "  --xr-disabled-color: #515151;\n",
       "  --xr-background-color: #111111;\n",
       "  --xr-background-color-row-even: #111111;\n",
       "  --xr-background-color-row-odd: #313131;\n",
       "}\n",
       "\n",
       ".xr-wrap {\n",
       "  display: block;\n",
       "  min-width: 300px;\n",
       "  max-width: 700px;\n",
       "}\n",
       "\n",
       ".xr-text-repr-fallback {\n",
       "  /* fallback to plain text repr when CSS is not injected (untrusted notebook) */\n",
       "  display: none;\n",
       "}\n",
       "\n",
       ".xr-header {\n",
       "  padding-top: 6px;\n",
       "  padding-bottom: 6px;\n",
       "  margin-bottom: 4px;\n",
       "  border-bottom: solid 1px var(--xr-border-color);\n",
       "}\n",
       "\n",
       ".xr-header > div,\n",
       ".xr-header > ul {\n",
       "  display: inline;\n",
       "  margin-top: 0;\n",
       "  margin-bottom: 0;\n",
       "}\n",
       "\n",
       ".xr-obj-type,\n",
       ".xr-array-name {\n",
       "  margin-left: 2px;\n",
       "  margin-right: 10px;\n",
       "}\n",
       "\n",
       ".xr-obj-type {\n",
       "  color: var(--xr-font-color2);\n",
       "}\n",
       "\n",
       ".xr-sections {\n",
       "  padding-left: 0 !important;\n",
       "  display: grid;\n",
       "  grid-template-columns: 150px auto auto 1fr 20px 20px;\n",
       "}\n",
       "\n",
       ".xr-section-item {\n",
       "  display: contents;\n",
       "}\n",
       "\n",
       ".xr-section-item input {\n",
       "  display: none;\n",
       "}\n",
       "\n",
       ".xr-section-item input + label {\n",
       "  color: var(--xr-disabled-color);\n",
       "}\n",
       "\n",
       ".xr-section-item input:enabled + label {\n",
       "  cursor: pointer;\n",
       "  color: var(--xr-font-color2);\n",
       "}\n",
       "\n",
       ".xr-section-item input:enabled + label:hover {\n",
       "  color: var(--xr-font-color0);\n",
       "}\n",
       "\n",
       ".xr-section-summary {\n",
       "  grid-column: 1;\n",
       "  color: var(--xr-font-color2);\n",
       "  font-weight: 500;\n",
       "}\n",
       "\n",
       ".xr-section-summary > span {\n",
       "  display: inline-block;\n",
       "  padding-left: 0.5em;\n",
       "}\n",
       "\n",
       ".xr-section-summary-in:disabled + label {\n",
       "  color: var(--xr-font-color2);\n",
       "}\n",
       "\n",
       ".xr-section-summary-in + label:before {\n",
       "  display: inline-block;\n",
       "  content: '►';\n",
       "  font-size: 11px;\n",
       "  width: 15px;\n",
       "  text-align: center;\n",
       "}\n",
       "\n",
       ".xr-section-summary-in:disabled + label:before {\n",
       "  color: var(--xr-disabled-color);\n",
       "}\n",
       "\n",
       ".xr-section-summary-in:checked + label:before {\n",
       "  content: '▼';\n",
       "}\n",
       "\n",
       ".xr-section-summary-in:checked + label > span {\n",
       "  display: none;\n",
       "}\n",
       "\n",
       ".xr-section-summary,\n",
       ".xr-section-inline-details {\n",
       "  padding-top: 4px;\n",
       "  padding-bottom: 4px;\n",
       "}\n",
       "\n",
       ".xr-section-inline-details {\n",
       "  grid-column: 2 / -1;\n",
       "}\n",
       "\n",
       ".xr-section-details {\n",
       "  display: none;\n",
       "  grid-column: 1 / -1;\n",
       "  margin-bottom: 5px;\n",
       "}\n",
       "\n",
       ".xr-section-summary-in:checked ~ .xr-section-details {\n",
       "  display: contents;\n",
       "}\n",
       "\n",
       ".xr-array-wrap {\n",
       "  grid-column: 1 / -1;\n",
       "  display: grid;\n",
       "  grid-template-columns: 20px auto;\n",
       "}\n",
       "\n",
       ".xr-array-wrap > label {\n",
       "  grid-column: 1;\n",
       "  vertical-align: top;\n",
       "}\n",
       "\n",
       ".xr-preview {\n",
       "  color: var(--xr-font-color3);\n",
       "}\n",
       "\n",
       ".xr-array-preview,\n",
       ".xr-array-data {\n",
       "  padding: 0 5px !important;\n",
       "  grid-column: 2;\n",
       "}\n",
       "\n",
       ".xr-array-data,\n",
       ".xr-array-in:checked ~ .xr-array-preview {\n",
       "  display: none;\n",
       "}\n",
       "\n",
       ".xr-array-in:checked ~ .xr-array-data,\n",
       ".xr-array-preview {\n",
       "  display: inline-block;\n",
       "}\n",
       "\n",
       ".xr-dim-list {\n",
       "  display: inline-block !important;\n",
       "  list-style: none;\n",
       "  padding: 0 !important;\n",
       "  margin: 0;\n",
       "}\n",
       "\n",
       ".xr-dim-list li {\n",
       "  display: inline-block;\n",
       "  padding: 0;\n",
       "  margin: 0;\n",
       "}\n",
       "\n",
       ".xr-dim-list:before {\n",
       "  content: '(';\n",
       "}\n",
       "\n",
       ".xr-dim-list:after {\n",
       "  content: ')';\n",
       "}\n",
       "\n",
       ".xr-dim-list li:not(:last-child):after {\n",
       "  content: ',';\n",
       "  padding-right: 5px;\n",
       "}\n",
       "\n",
       ".xr-has-index {\n",
       "  font-weight: bold;\n",
       "}\n",
       "\n",
       ".xr-var-list,\n",
       ".xr-var-item {\n",
       "  display: contents;\n",
       "}\n",
       "\n",
       ".xr-var-item > div,\n",
       ".xr-var-item label,\n",
       ".xr-var-item > .xr-var-name span {\n",
       "  background-color: var(--xr-background-color-row-even);\n",
       "  margin-bottom: 0;\n",
       "}\n",
       "\n",
       ".xr-var-item > .xr-var-name:hover span {\n",
       "  padding-right: 5px;\n",
       "}\n",
       "\n",
       ".xr-var-list > li:nth-child(odd) > div,\n",
       ".xr-var-list > li:nth-child(odd) > label,\n",
       ".xr-var-list > li:nth-child(odd) > .xr-var-name span {\n",
       "  background-color: var(--xr-background-color-row-odd);\n",
       "}\n",
       "\n",
       ".xr-var-name {\n",
       "  grid-column: 1;\n",
       "}\n",
       "\n",
       ".xr-var-dims {\n",
       "  grid-column: 2;\n",
       "}\n",
       "\n",
       ".xr-var-dtype {\n",
       "  grid-column: 3;\n",
       "  text-align: right;\n",
       "  color: var(--xr-font-color2);\n",
       "}\n",
       "\n",
       ".xr-var-preview {\n",
       "  grid-column: 4;\n",
       "}\n",
       "\n",
       ".xr-var-name,\n",
       ".xr-var-dims,\n",
       ".xr-var-dtype,\n",
       ".xr-preview,\n",
       ".xr-attrs dt {\n",
       "  white-space: nowrap;\n",
       "  overflow: hidden;\n",
       "  text-overflow: ellipsis;\n",
       "  padding-right: 10px;\n",
       "}\n",
       "\n",
       ".xr-var-name:hover,\n",
       ".xr-var-dims:hover,\n",
       ".xr-var-dtype:hover,\n",
       ".xr-attrs dt:hover {\n",
       "  overflow: visible;\n",
       "  width: auto;\n",
       "  z-index: 1;\n",
       "}\n",
       "\n",
       ".xr-var-attrs,\n",
       ".xr-var-data {\n",
       "  display: none;\n",
       "  background-color: var(--xr-background-color) !important;\n",
       "  padding-bottom: 5px !important;\n",
       "}\n",
       "\n",
       ".xr-var-attrs-in:checked ~ .xr-var-attrs,\n",
       ".xr-var-data-in:checked ~ .xr-var-data {\n",
       "  display: block;\n",
       "}\n",
       "\n",
       ".xr-var-data > table {\n",
       "  float: right;\n",
       "}\n",
       "\n",
       ".xr-var-name span,\n",
       ".xr-var-data,\n",
       ".xr-attrs {\n",
       "  padding-left: 25px !important;\n",
       "}\n",
       "\n",
       ".xr-attrs,\n",
       ".xr-var-attrs,\n",
       ".xr-var-data {\n",
       "  grid-column: 1 / -1;\n",
       "}\n",
       "\n",
       "dl.xr-attrs {\n",
       "  padding: 0;\n",
       "  margin: 0;\n",
       "  display: grid;\n",
       "  grid-template-columns: 125px auto;\n",
       "}\n",
       "\n",
       ".xr-attrs dt,\n",
       ".xr-attrs dd {\n",
       "  padding: 0;\n",
       "  margin: 0;\n",
       "  float: left;\n",
       "  padding-right: 10px;\n",
       "  width: auto;\n",
       "}\n",
       "\n",
       ".xr-attrs dt {\n",
       "  font-weight: normal;\n",
       "  grid-column: 1;\n",
       "}\n",
       "\n",
       ".xr-attrs dt:hover span {\n",
       "  display: inline-block;\n",
       "  background: var(--xr-background-color);\n",
       "  padding-right: 10px;\n",
       "}\n",
       "\n",
       ".xr-attrs dd {\n",
       "  grid-column: 2;\n",
       "  white-space: pre-wrap;\n",
       "  word-break: break-all;\n",
       "}\n",
       "\n",
       ".xr-icon-database,\n",
       ".xr-icon-file-text2 {\n",
       "  display: inline-block;\n",
       "  vertical-align: middle;\n",
       "  width: 1em;\n",
       "  height: 1.5em !important;\n",
       "  stroke-width: 0;\n",
       "  stroke: currentColor;\n",
       "  fill: currentColor;\n",
       "}\n",
       "</style><pre class='xr-text-repr-fallback'>&lt;xarray.Dataset&gt;\n",
       "Dimensions:  (lat: 15, lon: 35, time: 14244)\n",
       "Coordinates:\n",
       "  * time     (time) object &#x27;1981-01-01&#x27; &#x27;1981-01-02&#x27; ... &#x27;2019-12-31&#x27;\n",
       "  * lat      (lat) float32 55.0 52.5 50.0 47.5 45.0 ... 30.0 27.5 25.0 22.5 20.0\n",
       "  * lon      (lon) float32 220.0 222.5 225.0 227.5 ... 297.5 300.0 302.5 305.0\n",
       "Data variables:\n",
       "    rel_hgt  (time, lat, lon) float32 5.161e-05 7.148e-05 3.191e-05 ... 0.0 -0.0\n",
       "    rel_slp  (time, lat, lon) float32 0.0 1.016e-05 5.299e-05 ... -0.0 -0.0 -0.0</pre><div class='xr-wrap' hidden><div class='xr-header'><div class='xr-obj-type'>xarray.Dataset</div></div><ul class='xr-sections'><li class='xr-section-item'><input id='section-e511f98d-d6df-48d3-b754-59a4f7bf671c' class='xr-section-summary-in' type='checkbox' disabled ><label for='section-e511f98d-d6df-48d3-b754-59a4f7bf671c' class='xr-section-summary'  title='Expand/collapse section'>Dimensions:</label><div class='xr-section-inline-details'><ul class='xr-dim-list'><li><span class='xr-has-index'>lat</span>: 15</li><li><span class='xr-has-index'>lon</span>: 35</li><li><span class='xr-has-index'>time</span>: 14244</li></ul></div><div class='xr-section-details'></div></li><li class='xr-section-item'><input id='section-4531919b-2d53-418d-94cb-569c5481d3cc' class='xr-section-summary-in' type='checkbox'  checked><label for='section-4531919b-2d53-418d-94cb-569c5481d3cc' class='xr-section-summary' >Coordinates: <span>(3)</span></label><div class='xr-section-inline-details'></div><div class='xr-section-details'><ul class='xr-var-list'><li class='xr-var-item'><div class='xr-var-name'><span class='xr-has-index'>time</span></div><div class='xr-var-dims'>(time)</div><div class='xr-var-dtype'>object</div><div class='xr-var-preview xr-preview'>&#x27;1981-01-01&#x27; ... &#x27;2019-12-31&#x27;</div><input id='attrs-c7383917-d36a-4c80-9203-35c1c6b63ba2' class='xr-var-attrs-in' type='checkbox' disabled><label for='attrs-c7383917-d36a-4c80-9203-35c1c6b63ba2' title='Show/Hide attributes'><svg class='icon xr-icon-file-text2'><use xlink:href='#icon-file-text2'></use></svg></label><input id='data-f5caf84a-092f-4a6f-9a7d-ca2aff3a0e76' class='xr-var-data-in' type='checkbox'><label for='data-f5caf84a-092f-4a6f-9a7d-ca2aff3a0e76' title='Show/Hide data repr'><svg class='icon xr-icon-database'><use xlink:href='#icon-database'></use></svg></label><div class='xr-var-attrs'><dl class='xr-attrs'></dl></div><div class='xr-var-data'><pre>array([&#x27;1981-01-01&#x27;, &#x27;1981-01-02&#x27;, &#x27;1981-01-03&#x27;, ..., &#x27;2019-12-29&#x27;,\n",
       "       &#x27;2019-12-30&#x27;, &#x27;2019-12-31&#x27;], dtype=object)</pre></div></li><li class='xr-var-item'><div class='xr-var-name'><span class='xr-has-index'>lat</span></div><div class='xr-var-dims'>(lat)</div><div class='xr-var-dtype'>float32</div><div class='xr-var-preview xr-preview'>55.0 52.5 50.0 ... 25.0 22.5 20.0</div><input id='attrs-1b8d9a89-7f9d-4fe2-82c8-a513ed4f2d9d' class='xr-var-attrs-in' type='checkbox' ><label for='attrs-1b8d9a89-7f9d-4fe2-82c8-a513ed4f2d9d' title='Show/Hide attributes'><svg class='icon xr-icon-file-text2'><use xlink:href='#icon-file-text2'></use></svg></label><input id='data-7c6c9a92-9531-4c3c-b9f4-af83bf212e4f' class='xr-var-data-in' type='checkbox'><label for='data-7c6c9a92-9531-4c3c-b9f4-af83bf212e4f' title='Show/Hide data repr'><svg class='icon xr-icon-database'><use xlink:href='#icon-database'></use></svg></label><div class='xr-var-attrs'><dl class='xr-attrs'><dt><span>units :</span></dt><dd>degrees_north</dd><dt><span>actual_range :</span></dt><dd>[ 90. -90.]</dd><dt><span>long_name :</span></dt><dd>Latitude</dd><dt><span>standard_name :</span></dt><dd>latitude</dd><dt><span>axis :</span></dt><dd>Y</dd></dl></div><div class='xr-var-data'><pre>array([55. , 52.5, 50. , 47.5, 45. , 42.5, 40. , 37.5, 35. , 32.5, 30. , 27.5,\n",
       "       25. , 22.5, 20. ], dtype=float32)</pre></div></li><li class='xr-var-item'><div class='xr-var-name'><span class='xr-has-index'>lon</span></div><div class='xr-var-dims'>(lon)</div><div class='xr-var-dtype'>float32</div><div class='xr-var-preview xr-preview'>220.0 222.5 225.0 ... 302.5 305.0</div><input id='attrs-7ccf5b01-09b2-41f5-80b5-72ebafda6b96' class='xr-var-attrs-in' type='checkbox' ><label for='attrs-7ccf5b01-09b2-41f5-80b5-72ebafda6b96' title='Show/Hide attributes'><svg class='icon xr-icon-file-text2'><use xlink:href='#icon-file-text2'></use></svg></label><input id='data-b2cc92ae-b34f-4b84-b0b8-f803882d44b3' class='xr-var-data-in' type='checkbox'><label for='data-b2cc92ae-b34f-4b84-b0b8-f803882d44b3' title='Show/Hide data repr'><svg class='icon xr-icon-database'><use xlink:href='#icon-database'></use></svg></label><div class='xr-var-attrs'><dl class='xr-attrs'><dt><span>units :</span></dt><dd>degrees_east</dd><dt><span>long_name :</span></dt><dd>Longitude</dd><dt><span>actual_range :</span></dt><dd>[  0.  357.5]</dd><dt><span>standard_name :</span></dt><dd>longitude</dd><dt><span>axis :</span></dt><dd>X</dd></dl></div><div class='xr-var-data'><pre>array([220. , 222.5, 225. , 227.5, 230. , 232.5, 235. , 237.5, 240. , 242.5,\n",
       "       245. , 247.5, 250. , 252.5, 255. , 257.5, 260. , 262.5, 265. , 267.5,\n",
       "       270. , 272.5, 275. , 277.5, 280. , 282.5, 285. , 287.5, 290. , 292.5,\n",
       "       295. , 297.5, 300. , 302.5, 305. ], dtype=float32)</pre></div></li></ul></div></li><li class='xr-section-item'><input id='section-954c39a6-2712-4907-8e2b-e19700683574' class='xr-section-summary-in' type='checkbox'  checked><label for='section-954c39a6-2712-4907-8e2b-e19700683574' class='xr-section-summary' >Data variables: <span>(2)</span></label><div class='xr-section-inline-details'></div><div class='xr-section-details'><ul class='xr-var-list'><li class='xr-var-item'><div class='xr-var-name'><span>rel_hgt</span></div><div class='xr-var-dims'>(time, lat, lon)</div><div class='xr-var-dtype'>float32</div><div class='xr-var-preview xr-preview'>5.161e-05 7.148e-05 ... 0.0 -0.0</div><input id='attrs-e7cbe1de-4efb-432c-9731-ceb9c8675a24' class='xr-var-attrs-in' type='checkbox' disabled><label for='attrs-e7cbe1de-4efb-432c-9731-ceb9c8675a24' title='Show/Hide attributes'><svg class='icon xr-icon-file-text2'><use xlink:href='#icon-file-text2'></use></svg></label><input id='data-ac150be8-9b33-4b18-a05d-af8d78fcb781' class='xr-var-data-in' type='checkbox'><label for='data-ac150be8-9b33-4b18-a05d-af8d78fcb781' title='Show/Hide data repr'><svg class='icon xr-icon-database'><use xlink:href='#icon-database'></use></svg></label><div class='xr-var-attrs'><dl class='xr-attrs'></dl></div><div class='xr-var-data'><pre>array([[[ 5.16062864e-05,  7.14771013e-05,  3.19144492e-05, ...,\n",
       "          1.09594825e-04,  0.00000000e+00,  0.00000000e+00],\n",
       "        [ 3.26645022e-05,  1.03350751e-04,  1.72932574e-04, ...,\n",
       "          3.44813138e-08,  3.28652777e-06,  0.00000000e+00],\n",
       "        [ 2.97753759e-05,  3.09398252e-04,  2.76925130e-04, ...,\n",
       "          4.51437736e-05,  1.86928282e-05,  0.00000000e+00],\n",
       "        ...,\n",
       "        [ 4.63374761e-07,  2.16277025e-04,  7.69238686e-04, ...,\n",
       "          6.38927042e-04,  3.27158631e-07,  0.00000000e+00],\n",
       "        [-0.00000000e+00,  4.07113803e-05,  1.10424109e-04, ...,\n",
       "          3.95897905e-06,  2.26655429e-05,  0.00000000e+00],\n",
       "        [-0.00000000e+00, -0.00000000e+00, -0.00000000e+00, ...,\n",
       "          0.00000000e+00,  0.00000000e+00,  0.00000000e+00]],\n",
       "\n",
       "       [[ 0.00000000e+00,  0.00000000e+00,  7.74592336e-05, ...,\n",
       "          4.91941719e-05,  0.00000000e+00,  0.00000000e+00],\n",
       "        [ 0.00000000e+00,  0.00000000e+00,  2.03539876e-05, ...,\n",
       "          3.31024698e-04,  7.68446407e-05,  0.00000000e+00],\n",
       "        [ 2.23084389e-05,  1.14248774e-04,  1.48542284e-04, ...,\n",
       "          2.30414647e-04,  1.20614517e-04,  0.00000000e+00],\n",
       "...\n",
       "          6.26424560e-04,  6.47216875e-05, -0.00000000e+00],\n",
       "        [ 6.15640147e-07,  3.12100292e-06,  1.60445481e-07, ...,\n",
       "          5.67368661e-05,  1.86588280e-04, -0.00000000e+00],\n",
       "        [-0.00000000e+00, -0.00000000e+00, -0.00000000e+00, ...,\n",
       "         -0.00000000e+00, -0.00000000e+00, -0.00000000e+00]],\n",
       "\n",
       "       [[-0.00000000e+00,  8.42312420e-06,  1.16623942e-05, ...,\n",
       "          1.92155130e-05,  0.00000000e+00,  0.00000000e+00],\n",
       "        [ 0.00000000e+00,  6.57598775e-06,  2.57595002e-05, ...,\n",
       "          9.11933748e-05,  3.73680086e-05,  0.00000000e+00],\n",
       "        [ 2.22894068e-05,  1.10219262e-04,  1.94708104e-04, ...,\n",
       "          2.03963122e-04,  6.60277055e-06,  0.00000000e+00],\n",
       "        ...,\n",
       "        [ 3.04758232e-05,  2.23897587e-06,  2.52953814e-05, ...,\n",
       "          4.44100333e-05,  4.44778038e-07, -0.00000000e+00],\n",
       "        [ 0.00000000e+00,  1.70707204e-09,  4.79142545e-06, ...,\n",
       "          5.91380522e-05,  0.00000000e+00,  0.00000000e+00],\n",
       "        [ 0.00000000e+00,  0.00000000e+00,  0.00000000e+00, ...,\n",
       "          0.00000000e+00,  0.00000000e+00, -0.00000000e+00]]],\n",
       "      dtype=float32)</pre></div></li><li class='xr-var-item'><div class='xr-var-name'><span>rel_slp</span></div><div class='xr-var-dims'>(time, lat, lon)</div><div class='xr-var-dtype'>float32</div><div class='xr-var-preview xr-preview'>0.0 1.016e-05 ... -0.0 -0.0</div><input id='attrs-6c9a8d75-a62e-4431-b8ba-ae89857bd33c' class='xr-var-attrs-in' type='checkbox' disabled><label for='attrs-6c9a8d75-a62e-4431-b8ba-ae89857bd33c' title='Show/Hide attributes'><svg class='icon xr-icon-file-text2'><use xlink:href='#icon-file-text2'></use></svg></label><input id='data-d1d923b5-59d9-45b7-a2ef-192b7807b6da' class='xr-var-data-in' type='checkbox'><label for='data-d1d923b5-59d9-45b7-a2ef-192b7807b6da' title='Show/Hide data repr'><svg class='icon xr-icon-database'><use xlink:href='#icon-database'></use></svg></label><div class='xr-var-attrs'><dl class='xr-attrs'></dl></div><div class='xr-var-data'><pre>array([[[ 0.00000000e+00,  1.01612895e-05,  5.29947902e-05, ...,\n",
       "          3.69260624e-06, -0.00000000e+00, -0.00000000e+00],\n",
       "        [ 0.00000000e+00,  4.87170655e-06,  1.41338925e-04, ...,\n",
       "          2.01927498e-04,  8.70191943e-05, -0.00000000e+00],\n",
       "        [ 3.22624123e-06,  6.42816894e-06,  1.97697620e-04, ...,\n",
       "          1.53685440e-04,  1.33358830e-04, -0.00000000e+00],\n",
       "        ...,\n",
       "        [ 7.88583493e-05,  2.08006037e-04,  5.23884781e-04, ...,\n",
       "          2.30292510e-03,  2.28156161e-04, -0.00000000e+00],\n",
       "        [-0.00000000e+00,  5.66170202e-04,  9.43061837e-04, ...,\n",
       "          4.48218962e-05,  1.73401320e-04, -0.00000000e+00],\n",
       "        [-0.00000000e+00, -0.00000000e+00, -0.00000000e+00, ...,\n",
       "         -0.00000000e+00, -0.00000000e+00, -0.00000000e+00]],\n",
       "\n",
       "       [[-0.00000000e+00,  0.00000000e+00,  3.31787919e-06, ...,\n",
       "          3.25151486e-04,  2.91858232e-05,  0.00000000e+00],\n",
       "        [-0.00000000e+00, -0.00000000e+00,  7.93001504e-08, ...,\n",
       "          2.85684928e-05,  1.45852000e-05,  0.00000000e+00],\n",
       "        [-0.00000000e+00,  3.87569999e-05,  1.07090218e-05, ...,\n",
       "          4.43121884e-04,  1.88703518e-04,  0.00000000e+00],\n",
       "...\n",
       "          1.97422560e-05,  4.51280312e-06, -0.00000000e+00],\n",
       "        [ 1.15344737e-05,  6.90068660e-08,  1.07042488e-05, ...,\n",
       "          3.08432325e-04,  1.57088740e-04, -0.00000000e+00],\n",
       "        [ 0.00000000e+00,  0.00000000e+00,  0.00000000e+00, ...,\n",
       "         -0.00000000e+00, -0.00000000e+00, -0.00000000e+00]],\n",
       "\n",
       "       [[-0.00000000e+00,  1.56958831e-05,  4.17844103e-06, ...,\n",
       "          6.62989862e-07,  1.04216624e-05,  0.00000000e+00],\n",
       "        [-0.00000000e+00,  9.92606238e-06,  1.53466390e-04, ...,\n",
       "          2.26660995e-05,  2.70600467e-05,  0.00000000e+00],\n",
       "        [ 7.01926410e-06,  1.12581743e-04,  3.02362809e-04, ...,\n",
       "          1.56967617e-05,  3.10679061e-05,  0.00000000e+00],\n",
       "        ...,\n",
       "        [ 8.49163916e-06,  3.39394392e-05,  9.13821623e-06, ...,\n",
       "          6.50741160e-04,  1.34294191e-06, -0.00000000e+00],\n",
       "        [ 1.28958810e-09,  0.00000000e+00,  3.09060860e-10, ...,\n",
       "          4.09980072e-04,  2.76382107e-05, -0.00000000e+00],\n",
       "        [ 0.00000000e+00,  0.00000000e+00,  0.00000000e+00, ...,\n",
       "         -0.00000000e+00, -0.00000000e+00, -0.00000000e+00]]],\n",
       "      dtype=float32)</pre></div></li></ul></div></li><li class='xr-section-item'><input id='section-ecc729c0-ccfb-4219-8e5f-f087cd2a8e88' class='xr-section-summary-in' type='checkbox' disabled ><label for='section-ecc729c0-ccfb-4219-8e5f-f087cd2a8e88' class='xr-section-summary'  title='Expand/collapse section'>Attributes: <span>(0)</span></label><div class='xr-section-inline-details'></div><div class='xr-section-details'><dl class='xr-attrs'></dl></div></li></ul></div></div>"
      ],
      "text/plain": [
       "<xarray.Dataset>\n",
       "Dimensions:  (lat: 15, lon: 35, time: 14244)\n",
       "Coordinates:\n",
       "  * time     (time) object '1981-01-01' '1981-01-02' ... '2019-12-31'\n",
       "  * lat      (lat) float32 55.0 52.5 50.0 47.5 45.0 ... 30.0 27.5 25.0 22.5 20.0\n",
       "  * lon      (lon) float32 220.0 222.5 225.0 227.5 ... 297.5 300.0 302.5 305.0\n",
       "Data variables:\n",
       "    rel_hgt  (time, lat, lon) float32 5.161e-05 7.148e-05 3.191e-05 ... 0.0 -0.0\n",
       "    rel_slp  (time, lat, lon) float32 0.0 1.016e-05 5.299e-05 ... -0.0 -0.0 -0.0"
      ]
     },
     "execution_count": 35,
     "metadata": {},
     "output_type": "execute_result"
    }
   ],
   "source": [
    "rel_data"
   ]
  },
  {
   "cell_type": "code",
   "execution_count": 36,
   "metadata": {},
   "outputs": [],
   "source": [
    "rel_data.to_netcdf(\"../processed_data/lrp_data_all_days.nc\")"
   ]
  },
  {
   "cell_type": "code",
   "execution_count": null,
   "metadata": {},
   "outputs": [],
   "source": []
  }
 ],
 "metadata": {
  "kernelspec": {
   "display_name": "Python 3",
   "language": "python",
   "name": "python3"
  },
  "language_info": {
   "codemirror_mode": {
    "name": "ipython",
    "version": 3
   },
   "file_extension": ".py",
   "mimetype": "text/x-python",
   "name": "python",
   "nbconvert_exporter": "python",
   "pygments_lexer": "ipython3",
   "version": "3.6.13"
  }
 },
 "nbformat": 4,
 "nbformat_minor": 4
}
